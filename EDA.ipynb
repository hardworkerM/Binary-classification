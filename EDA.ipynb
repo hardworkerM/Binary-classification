{
 "cells": [
  {
   "cell_type": "code",
   "execution_count": 2,
   "metadata": {},
   "outputs": [],
   "source": [
    "import pandas as pd\n",
    "import seaborn as sns\n",
    "import matplotlib.pyplot as plt"
   ]
  },
  {
   "cell_type": "code",
   "execution_count": null,
   "metadata": {},
   "outputs": [],
   "source": []
  },
  {
   "cell_type": "code",
   "execution_count": 2,
   "metadata": {},
   "outputs": [
    {
     "name": "stderr",
     "output_type": "stream",
     "text": [
      "C:\\Program Files (x86)\\pit\\lib\\site-packages\\IPython\\core\\interactiveshell.py:3146: DtypeWarning: Columns (5,6,7,8,9,10,11,12,13) have mixed types.Specify dtype option on import or set low_memory=False.\n",
      "  has_raised = await self.run_ast_nodes(code_ast.body, cell_name,\n"
     ]
    }
   ],
   "source": [
    "df_persons = pd.read_csv('person.csv').set_index('Unnamed: 0')\n",
    "df_train = pd.read_csv('action_train.csv').set_index('Unnamed: 0')\n",
    "df_test = pd.read_csv('action_test.csv').set_index('Unnamed: 0')"
   ]
  },
  {
   "cell_type": "code",
   "execution_count": 5,
   "metadata": {},
   "outputs": [
    {
     "data": {
      "text/plain": [
       "((2197291, 15), (498687, 14))"
      ]
     },
     "execution_count": 5,
     "metadata": {},
     "output_type": "execute_result"
    }
   ],
   "source": [
    "df_train.shape, df_test.shape"
   ]
  },
  {
   "cell_type": "code",
   "execution_count": 16,
   "metadata": {},
   "outputs": [],
   "source": [
    "columns = df_test[['date', 'action_type', 'char_1', 'char_2',\n",
    "       'char_3', 'char_4', 'char_5', 'char_6', 'char_7', 'char_8', 'char_9',\n",
    "       'char_10']]"
   ]
  },
  {
   "cell_type": "code",
   "execution_count": 20,
   "metadata": {},
   "outputs": [
    {
     "name": "stdout",
     "output_type": "stream",
     "text": [
      "date\n",
      "2022-09-16    2.065825\n",
      "2022-09-15    1.461438\n",
      "2022-10-15    1.420731\n",
      "2022-10-01    0.984184\n",
      "2022-11-05    0.926834\n",
      "                ...   \n",
      "2023-03-13    0.002607\n",
      "2022-12-05    0.002206\n",
      "2022-12-12    0.001404\n",
      "2023-08-21    0.000602\n",
      "2023-08-20    0.000201\n",
      "Name: date, Length: 411, dtype: float64\n",
      "2022-09-30    2.192427\n",
      "2022-09-16    1.971610\n",
      "2022-10-23    1.857788\n",
      "2022-09-15    1.366182\n",
      "2022-10-22    1.350982\n",
      "                ...   \n",
      "2023-08-19    0.002640\n",
      "2022-12-05    0.002002\n",
      "2022-12-12    0.001547\n",
      "2023-08-21    0.000819\n",
      "2023-08-20    0.000410\n",
      "Name: date, Length: 411, dtype: float64\n",
      "\n",
      "\n",
      "action_type\n",
      "type 2    44.750314\n",
      "type 5    24.757613\n",
      "type 3    12.017759\n",
      "type 4    10.069442\n",
      "type 1     8.039512\n",
      "type 6     0.210753\n",
      "type 7     0.154606\n",
      "Name: action_type, dtype: float64\n",
      "type 2    41.172653\n",
      "type 5    22.332499\n",
      "type 3    19.542610\n",
      "type 4     9.441854\n",
      "type 1     7.173151\n",
      "type 6     0.193557\n",
      "type 7     0.143677\n",
      "Name: action_type, dtype: float64\n",
      "\n",
      "\n",
      "char_1\n",
      "type 2     1.977593\n",
      "type 5     1.735959\n",
      "type 12    0.799098\n",
      "type 1     0.779246\n",
      "type 3     0.640281\n",
      "type 10    0.376388\n",
      "type 7     0.368367\n",
      "type 23    0.119113\n",
      "type 6     0.116105\n",
      "type 11    0.111292\n",
      "type 26    0.104875\n",
      "type 8     0.094849\n",
      "type 17    0.092242\n",
      "type 13    0.077002\n",
      "type 29    0.070184\n",
      "type 15    0.068981\n",
      "type 4     0.066374\n",
      "type 16    0.065171\n",
      "type 9     0.062965\n",
      "type 14    0.052137\n",
      "type 24    0.033287\n",
      "type 28    0.032886\n",
      "type 25    0.032285\n",
      "type 30    0.030881\n",
      "type 19    0.022058\n",
      "type 20    0.021657\n",
      "type 36    0.016844\n",
      "type 22    0.012032\n",
      "type 41    0.011831\n",
      "type 27    0.009024\n",
      "type 32    0.007219\n",
      "type 40    0.007018\n",
      "type 35    0.006818\n",
      "type 18    0.004211\n",
      "type 31    0.004211\n",
      "type 34    0.002807\n",
      "type 39    0.001805\n",
      "type 33    0.001404\n",
      "type 38    0.000602\n",
      "type 21    0.000401\n",
      "type 43    0.000401\n",
      "type 37    0.000401\n",
      "type 49    0.000201\n",
      "type 45    0.000201\n",
      "type 50    0.000201\n",
      "type 42    0.000201\n",
      "type 52    0.000201\n",
      "type 44    0.000201\n",
      "Name: char_1, dtype: float64\n",
      "type 2     1.730768\n",
      "type 5     1.570525\n",
      "type 1     0.679837\n",
      "type 12    0.678881\n",
      "type 3     0.563057\n",
      "type 10    0.354755\n",
      "type 7     0.332773\n",
      "type 23    0.110136\n",
      "type 6     0.108543\n",
      "type 11    0.106176\n",
      "type 26    0.101033\n",
      "type 8     0.096027\n",
      "type 17    0.080918\n",
      "type 13    0.072180\n",
      "type 4     0.060484\n",
      "type 15    0.058436\n",
      "type 29    0.056115\n",
      "type 16    0.055933\n",
      "type 9     0.055750\n",
      "type 14    0.045055\n",
      "type 28    0.032130\n",
      "type 25    0.031584\n",
      "type 30    0.029718\n",
      "type 24    0.029172\n",
      "type 19    0.022346\n",
      "type 20    0.019752\n",
      "type 36    0.018068\n",
      "type 41    0.012652\n",
      "type 40    0.009739\n",
      "type 22    0.009603\n",
      "type 27    0.009057\n",
      "type 35    0.008192\n",
      "type 32    0.006645\n",
      "type 34    0.003004\n",
      "type 39    0.002867\n",
      "type 33    0.002731\n",
      "type 18    0.002594\n",
      "type 31    0.002458\n",
      "type 38    0.000546\n",
      "type 43    0.000501\n",
      "type 37    0.000455\n",
      "type 44    0.000364\n",
      "type 49    0.000273\n",
      "type 46    0.000273\n",
      "type 21    0.000228\n",
      "type 50    0.000228\n",
      "type 42    0.000182\n",
      "type 48    0.000137\n",
      "type 52    0.000137\n",
      "type 47    0.000091\n",
      "type 45    0.000046\n",
      "Name: char_1, dtype: float64\n",
      "\n",
      "\n",
      "char_2\n",
      "type 2     2.558118\n",
      "type 5     1.581754\n",
      "type 1     1.134780\n",
      "type 3     0.493295\n",
      "type 16    0.426320\n",
      "type 10    0.346510\n",
      "type 6     0.272917\n",
      "type 8     0.258479\n",
      "type 12    0.158015\n",
      "type 14    0.143778\n",
      "type 9     0.140369\n",
      "type 7     0.110290\n",
      "type 13    0.093846\n",
      "type 19    0.073994\n",
      "type 17    0.050332\n",
      "type 15    0.043514\n",
      "type 4     0.037097\n",
      "type 18    0.032084\n",
      "type 26    0.022258\n",
      "type 20    0.013435\n",
      "type 11    0.011029\n",
      "type 27    0.009826\n",
      "type 29    0.007821\n",
      "type 25    0.005214\n",
      "type 23    0.003609\n",
      "type 24    0.003409\n",
      "type 22    0.003208\n",
      "type 21    0.002406\n",
      "type 30    0.001003\n",
      "type 28    0.000602\n",
      "type 31    0.000201\n",
      "Name: char_2, dtype: float64\n",
      "type 2     2.299377\n",
      "type 5     1.446964\n",
      "type 1     0.983757\n",
      "type 3     0.446459\n",
      "type 16    0.343650\n",
      "type 10    0.315479\n",
      "type 8     0.241479\n",
      "type 6     0.240888\n",
      "type 12    0.147409\n",
      "type 14    0.127748\n",
      "type 9     0.117326\n",
      "type 7     0.105175\n",
      "type 13    0.084240\n",
      "type 19    0.059664\n",
      "type 17    0.048196\n",
      "type 15    0.036272\n",
      "type 4     0.035544\n",
      "type 18    0.026533\n",
      "type 20    0.014836\n",
      "type 26    0.012379\n",
      "type 11    0.010649\n",
      "type 29    0.007327\n",
      "type 22    0.005097\n",
      "type 25    0.004324\n",
      "type 24    0.003504\n",
      "type 23    0.003322\n",
      "type 21    0.002367\n",
      "type 27    0.001593\n",
      "type 28    0.000774\n",
      "type 31    0.000319\n",
      "type 30    0.000319\n",
      "type 32    0.000182\n",
      "Name: char_2, dtype: float64\n",
      "\n",
      "\n",
      "char_3\n",
      "type 1     1.990627\n",
      "type 5     1.804940\n",
      "type 4     1.064596\n",
      "type 3     0.983182\n",
      "type 6     0.958718\n",
      "type 7     0.483069\n",
      "type 8     0.360948\n",
      "type 2     0.330267\n",
      "type 9     0.061562\n",
      "type 10    0.001203\n",
      "type 11    0.000401\n",
      "Name: char_3, dtype: float64\n",
      "type 1     1.739597\n",
      "type 5     1.615080\n",
      "type 4     0.931420\n",
      "type 3     0.893691\n",
      "type 6     0.893418\n",
      "type 7     0.443956\n",
      "type 2     0.299323\n",
      "type 8     0.294590\n",
      "type 9     0.060438\n",
      "type 10    0.001411\n",
      "type 11    0.000228\n",
      "Name: char_3, dtype: float64\n",
      "\n",
      "\n",
      "char_4\n",
      "type 3    5.022389\n",
      "type 1    1.435369\n",
      "type 4    0.708661\n",
      "type 2    0.450583\n",
      "type 5    0.271914\n",
      "type 6    0.150194\n",
      "type 7    0.000401\n",
      "Name: char_4, dtype: float64\n",
      "type 3    4.465999\n",
      "type 1    1.273341\n",
      "type 4    0.624860\n",
      "type 2    0.423977\n",
      "type 5    0.251218\n",
      "type 6    0.133301\n",
      "type 7    0.000455\n",
      "Name: char_4, dtype: float64\n",
      "\n",
      "\n",
      "char_5\n",
      "type 6    3.435221\n",
      "type 1    2.470086\n",
      "type 2    1.461438\n",
      "type 3    0.299186\n",
      "type 5    0.269307\n",
      "type 4    0.104274\n",
      "Name: char_5, dtype: float64\n",
      "type 6    3.094219\n",
      "type 1    2.239758\n",
      "type 2    1.227967\n",
      "type 3    0.273655\n",
      "type 5    0.246713\n",
      "type 4    0.090794\n",
      "type 7    0.000046\n",
      "Name: char_5, dtype: float64\n",
      "\n",
      "\n",
      "char_6\n",
      "type 2    3.196394\n",
      "type 1    2.463269\n",
      "type 3    2.290214\n",
      "type 4    0.060158\n",
      "type 5    0.029477\n",
      "Name: char_6, dtype: float64\n",
      "type 2    2.777329\n",
      "type 1    2.214454\n",
      "type 3    2.099130\n",
      "type 4    0.056479\n",
      "type 5    0.025759\n",
      "Name: char_6, dtype: float64\n",
      "\n",
      "\n",
      "char_7\n",
      "type 1    2.664998\n",
      "type 3    2.279386\n",
      "type 2    1.640709\n",
      "type 6    0.524778\n",
      "type 4    0.421507\n",
      "type 5    0.383006\n",
      "type 7    0.097456\n",
      "type 8    0.027673\n",
      "Name: char_7, dtype: float64\n",
      "type 1    2.391490\n",
      "type 3    1.955499\n",
      "type 2    1.465395\n",
      "type 6    0.482594\n",
      "type 4    0.398263\n",
      "type 5    0.368818\n",
      "type 7    0.088017\n",
      "type 8    0.023074\n",
      "Name: char_7, dtype: float64\n",
      "\n",
      "\n",
      "char_8\n",
      "type 4     3.971028\n",
      "type 5     0.606593\n",
      "type 1     0.588144\n",
      "type 6     0.517158\n",
      "type 7     0.378394\n",
      "type 9     0.356135\n",
      "type 8     0.324853\n",
      "type 3     0.241033\n",
      "type 2     0.232009\n",
      "type 10    0.182680\n",
      "type 11    0.165835\n",
      "type 13    0.127134\n",
      "type 14    0.120316\n",
      "type 15    0.085625\n",
      "type 12    0.082817\n",
      "type 16    0.043715\n",
      "type 17    0.009024\n",
      "type 18    0.007018\n",
      "Name: char_8, dtype: float64\n",
      "type 4     3.525250\n",
      "type 5     0.564149\n",
      "type 1     0.528879\n",
      "type 6     0.469760\n",
      "type 7     0.352115\n",
      "type 8     0.302964\n",
      "type 9     0.291268\n",
      "type 3     0.223411\n",
      "type 2     0.188004\n",
      "type 10    0.177355\n",
      "type 11    0.141037\n",
      "type 13    0.108770\n",
      "type 14    0.106358\n",
      "type 15    0.068766\n",
      "type 12    0.066946\n",
      "type 16    0.040641\n",
      "type 17    0.010786\n",
      "type 18    0.006690\n",
      "Name: char_8, dtype: float64\n",
      "\n",
      "\n",
      "char_9\n",
      "type 8     1.581754\n",
      "type 1     1.263117\n",
      "type 2     0.682994\n",
      "type 6     0.681189\n",
      "type 5     0.548841\n",
      "type 4     0.410678\n",
      "type 17    0.403861\n",
      "type 15    0.381803\n",
      "type 10    0.370573\n",
      "type 12    0.340294\n",
      "type 7     0.307407\n",
      "type 3     0.288758\n",
      "type 13    0.263091\n",
      "type 16    0.250859\n",
      "type 14    0.120516\n",
      "type 18    0.074195\n",
      "type 9     0.036496\n",
      "type 11    0.019451\n",
      "type 19    0.013636\n",
      "Name: char_9, dtype: float64\n",
      "type 8     1.446964\n",
      "type 1     1.127070\n",
      "type 2     0.613847\n",
      "type 6     0.583628\n",
      "type 5     0.501572\n",
      "type 4     0.378876\n",
      "type 17    0.356211\n",
      "type 10    0.313022\n",
      "type 12    0.310974\n",
      "type 15    0.308107\n",
      "type 7     0.274474\n",
      "type 3     0.271152\n",
      "type 16    0.229237\n",
      "type 13    0.210350\n",
      "type 14    0.115824\n",
      "type 18    0.061030\n",
      "type 9     0.037956\n",
      "type 11    0.020707\n",
      "type 19    0.012151\n",
      "Name: char_9, dtype: float64\n",
      "\n",
      "\n",
      "char_10\n",
      "type 1       44.750314\n",
      "type 2        6.019607\n",
      "type 61       1.737964\n",
      "type 452      1.327085\n",
      "type 489      1.260109\n",
      "               ...    \n",
      "type 3746     0.000201\n",
      "type 572      0.000201\n",
      "type 6903     0.000201\n",
      "type 4287     0.000201\n",
      "type 4277     0.000201\n",
      "Name: char_10, Length: 3961, dtype: float64\n",
      "type 1       41.172653\n",
      "type 23       9.120685\n",
      "type 2        5.287920\n",
      "type 61       1.611848\n",
      "type 452      1.070090\n",
      "               ...    \n",
      "type 2904     0.000046\n",
      "type 3553     0.000046\n",
      "type 2854     0.000046\n",
      "type 8002     0.000046\n",
      "type 8117     0.000046\n",
      "Name: char_10, Length: 6515, dtype: float64\n",
      "\n",
      "\n"
     ]
    }
   ],
   "source": [
    "df_test2 = df_test.copy()\n",
    "n_test = df_test2.shape[0]\n",
    "for i in columns:\n",
    "    print(i)\n",
    "    print(df_test[i].value_counts() * 100 /n_test)\n",
    "    print(df_train[i].value_counts() * 100 / n_train)\n",
    "    print('\\n')"
   ]
  },
  {
   "cell_type": "markdown",
   "metadata": {},
   "source": [
    "### Внимательно посмотреть на date и на распределение char10"
   ]
  },
  {
   "cell_type": "code",
   "execution_count": 29,
   "metadata": {},
   "outputs": [],
   "source": [
    "def make_date(df):\n",
    "    y = []\n",
    "    m = []\n",
    "    d = []\n",
    "    df_date = df[['date']].copy()\n",
    "\n",
    "    for i in df_date.date:\n",
    "        year, month, day = i.split('-')\n",
    "        y.append(year)\n",
    "        m.append(month)\n",
    "        d.append(day)\n",
    "\n",
    "    df_date['y'] = y\n",
    "    df_date['m'] = m\n",
    "    df_date['d'] = d\n",
    "    \n",
    "    return df_date\n",
    "\n",
    "df_train_date = make_date(df_train)\n",
    "df_test_date = make_date(df_test)"
   ]
  },
  {
   "cell_type": "code",
   "execution_count": 30,
   "metadata": {},
   "outputs": [
    {
     "name": "stdout",
     "output_type": "stream",
     "text": [
      "y: 2\n",
      "m: 12\n",
      "d: 31\n",
      "\n",
      "\n",
      "y: 2\n",
      "m: 12\n",
      "d: 31\n"
     ]
    }
   ],
   "source": [
    "for i in ['y', 'm', 'd']:\n",
    "    print(f'{i}: {df_train_date[i].nunique()}')\n",
    "print('\\n') \n",
    "for i in ['y', 'm', 'd']:\n",
    "    print(f'{i}: {df_test_date[i].nunique()}')\n"
   ]
  },
  {
   "cell_type": "code",
   "execution_count": 33,
   "metadata": {},
   "outputs": [
    {
     "name": "stdout",
     "output_type": "stream",
     "text": [
      "2022    51.156219\n",
      "2023    48.843781\n",
      "Name: y, dtype: float64 \n",
      "\n",
      "10    16.237039\n",
      "09    13.335557\n",
      "08    10.435623\n",
      "11     9.826737\n",
      "02     8.851718\n",
      "03     7.648782\n",
      "07     7.298624\n",
      "01     7.197636\n",
      "06     6.364382\n",
      "04     5.275678\n",
      "12     3.809282\n",
      "05     3.718943\n",
      "Name: m, dtype: float64 \n",
      "\n",
      "30    5.071700\n",
      "15    4.686316\n",
      "23    4.678534\n",
      "16    4.587285\n",
      "22    4.577000\n",
      "27    3.960104\n",
      "29    3.519880\n",
      "24    3.414113\n",
      "21    3.387762\n",
      "01    3.383985\n",
      "20    3.369649\n",
      "26    3.359273\n",
      "28    3.295786\n",
      "10    3.189700\n",
      "09    3.135179\n",
      "19    3.098725\n",
      "11    3.027819\n",
      "08    2.941486\n",
      "02    2.931655\n",
      "03    2.928379\n",
      "17    2.895565\n",
      "18    2.860386\n",
      "04    2.853787\n",
      "05    2.789935\n",
      "25    2.775645\n",
      "12    2.697776\n",
      "14    2.663143\n",
      "13    2.303245\n",
      "07    2.130897\n",
      "06    2.128212\n",
      "31    1.357080\n",
      "Name: d, dtype: float64 \n",
      "\n"
     ]
    }
   ],
   "source": [
    "info_train = pd.DataFrame()\n",
    "\n",
    "n = df_train_date.shape[0]\n",
    "for i in ['y', 'm', 'd']:\n",
    "    print(df_train_date[i].value_counts()*100/n, '\\n')"
   ]
  },
  {
   "cell_type": "code",
   "execution_count": 67,
   "metadata": {},
   "outputs": [
    {
     "data": {
      "text/html": [
       "<div>\n",
       "<style scoped>\n",
       "    .dataframe tbody tr th:only-of-type {\n",
       "        vertical-align: middle;\n",
       "    }\n",
       "\n",
       "    .dataframe tbody tr th {\n",
       "        vertical-align: top;\n",
       "    }\n",
       "\n",
       "    .dataframe thead th {\n",
       "        text-align: right;\n",
       "    }\n",
       "</style>\n",
       "<table border=\"1\" class=\"dataframe\">\n",
       "  <thead>\n",
       "    <tr style=\"text-align: right;\">\n",
       "      <th></th>\n",
       "      <th>test</th>\n",
       "      <th>train</th>\n",
       "      <th>month</th>\n",
       "    </tr>\n",
       "  </thead>\n",
       "  <tbody>\n",
       "    <tr>\n",
       "      <th>5</th>\n",
       "      <td>2.428176</td>\n",
       "      <td>2.255323</td>\n",
       "      <td>07</td>\n",
       "    </tr>\n",
       "    <tr>\n",
       "      <th>3</th>\n",
       "      <td>6.083375</td>\n",
       "      <td>5.692282</td>\n",
       "      <td>08</td>\n",
       "    </tr>\n",
       "    <tr>\n",
       "      <th>2</th>\n",
       "      <td>10.301251</td>\n",
       "      <td>13.335557</td>\n",
       "      <td>09</td>\n",
       "    </tr>\n",
       "    <tr>\n",
       "      <th>0</th>\n",
       "      <td>12.464933</td>\n",
       "      <td>16.237039</td>\n",
       "      <td>10</td>\n",
       "    </tr>\n",
       "    <tr>\n",
       "      <th>1</th>\n",
       "      <td>10.845681</td>\n",
       "      <td>9.826737</td>\n",
       "      <td>11</td>\n",
       "    </tr>\n",
       "    <tr>\n",
       "      <th>4</th>\n",
       "      <td>4.159322</td>\n",
       "      <td>3.809282</td>\n",
       "      <td>12</td>\n",
       "    </tr>\n",
       "  </tbody>\n",
       "</table>\n",
       "</div>"
      ],
      "text/plain": [
       "        test      train month\n",
       "5   2.428176   2.255323    07\n",
       "3   6.083375   5.692282    08\n",
       "2  10.301251  13.335557    09\n",
       "0  12.464933  16.237039    10\n",
       "1  10.845681   9.826737    11\n",
       "4   4.159322   3.809282    12"
      ]
     },
     "execution_count": 67,
     "metadata": {},
     "output_type": "execute_result"
    }
   ],
   "source": [
    "df_2022 = pd.DataFrame()\n",
    "df_2022['test'] =  df_test_date[df_test_date.y == '2022']['m'].value_counts()*100/n\n",
    "df_2022['train'] = df_train_date[df_train_date.y == '2022']['m'].value_counts()*100/n2\n",
    "\n",
    "df_2022 = df_2022.reset_index()\n",
    "df_2022['month'] = df_2022['index']\n",
    "df_2022.drop('index', axis=1, inplace=True)\n",
    "df_2022.sort_values('month')"
   ]
  },
  {
   "cell_type": "code",
   "execution_count": 66,
   "metadata": {},
   "outputs": [
    {
     "name": "stdout",
     "output_type": "stream",
     "text": [
      "2023    53.717262\n",
      "2022    46.282738\n",
      "Name: y, dtype: float64 \n",
      "\n",
      "10    12.464933\n",
      "08    11.292855\n",
      "11    10.845681\n",
      "09    10.301251\n",
      "02     9.806351\n",
      "03     8.314835\n",
      "07     8.035902\n",
      "01     8.006224\n",
      "06     6.967497\n",
      "04     5.775366\n",
      "12     4.159322\n",
      "05     4.029782\n",
      "Name: m, dtype: float64 \n",
      "\n",
      "15    5.201660\n",
      "16    4.937566\n",
      "27    4.239734\n",
      "01    3.989476\n",
      "23    3.966215\n",
      "30    3.903450\n",
      "22    3.776317\n",
      "26    3.736813\n",
      "21    3.717562\n",
      "10    3.436625\n",
      "11    3.431611\n",
      "09    3.401532\n",
      "24    3.272193\n",
      "08    3.235095\n",
      "02    3.159898\n",
      "05    3.123202\n",
      "03    3.104954\n",
      "04    3.087508\n",
      "17    3.060838\n",
      "25    3.008701\n",
      "14    2.911044\n",
      "28    2.883973\n",
      "29    2.852290\n",
      "20    2.698887\n",
      "12    2.591004\n",
      "18    2.438002\n",
      "19    2.414340\n",
      "06    2.362203\n",
      "07    2.333528\n",
      "13    2.297233\n",
      "31    1.426546\n",
      "Name: d, dtype: float64 \n",
      "\n"
     ]
    }
   ],
   "source": [
    "n = df_test_date.shape[0]\n",
    "n2  =  df_train_date.shape[0]\n",
    "for i in ['y', 'm', 'd']:\n",
    "    test = df_test_date[i].value_counts()*100/n\n",
    "    train = df_train_date[i].value_counts()*100/n2\n",
    "    \n",
    "\n",
    "    print(df_test_date[i].value_counts()*100/n, '\\n')"
   ]
  },
  {
   "cell_type": "code",
   "execution_count": 63,
   "metadata": {},
   "outputs": [
    {
     "data": {
      "text/html": [
       "<div>\n",
       "<style scoped>\n",
       "    .dataframe tbody tr th:only-of-type {\n",
       "        vertical-align: middle;\n",
       "    }\n",
       "\n",
       "    .dataframe tbody tr th {\n",
       "        vertical-align: top;\n",
       "    }\n",
       "\n",
       "    .dataframe thead th {\n",
       "        text-align: right;\n",
       "    }\n",
       "</style>\n",
       "<table border=\"1\" class=\"dataframe\">\n",
       "  <thead>\n",
       "    <tr style=\"text-align: right;\">\n",
       "      <th></th>\n",
       "      <th>person_id</th>\n",
       "      <th>action_id</th>\n",
       "      <th>date</th>\n",
       "      <th>action_type</th>\n",
       "      <th>char_1</th>\n",
       "      <th>char_2</th>\n",
       "      <th>char_3</th>\n",
       "      <th>char_4</th>\n",
       "      <th>char_5</th>\n",
       "      <th>char_6</th>\n",
       "      <th>char_7</th>\n",
       "      <th>char_8</th>\n",
       "      <th>char_9</th>\n",
       "      <th>char_10</th>\n",
       "    </tr>\n",
       "    <tr>\n",
       "      <th>Unnamed: 0</th>\n",
       "      <th></th>\n",
       "      <th></th>\n",
       "      <th></th>\n",
       "      <th></th>\n",
       "      <th></th>\n",
       "      <th></th>\n",
       "      <th></th>\n",
       "      <th></th>\n",
       "      <th></th>\n",
       "      <th></th>\n",
       "      <th></th>\n",
       "      <th></th>\n",
       "      <th></th>\n",
       "      <th></th>\n",
       "    </tr>\n",
       "  </thead>\n",
       "  <tbody>\n",
       "    <tr>\n",
       "      <th>0</th>\n",
       "      <td>ppl_100004</td>\n",
       "      <td>act1_249281</td>\n",
       "      <td>2022-07-20</td>\n",
       "      <td>type 1</td>\n",
       "      <td>type 5</td>\n",
       "      <td>type 10</td>\n",
       "      <td>type 5</td>\n",
       "      <td>type 1</td>\n",
       "      <td>type 6</td>\n",
       "      <td>type 1</td>\n",
       "      <td>type 1</td>\n",
       "      <td>type 7</td>\n",
       "      <td>type 4</td>\n",
       "      <td>NaN</td>\n",
       "    </tr>\n",
       "    <tr>\n",
       "      <th>1</th>\n",
       "      <td>ppl_100004</td>\n",
       "      <td>act2_230855</td>\n",
       "      <td>2022-07-20</td>\n",
       "      <td>type 5</td>\n",
       "      <td>NaN</td>\n",
       "      <td>NaN</td>\n",
       "      <td>NaN</td>\n",
       "      <td>NaN</td>\n",
       "      <td>NaN</td>\n",
       "      <td>NaN</td>\n",
       "      <td>NaN</td>\n",
       "      <td>NaN</td>\n",
       "      <td>NaN</td>\n",
       "      <td>type 682</td>\n",
       "    </tr>\n",
       "    <tr>\n",
       "      <th>2</th>\n",
       "      <td>ppl_10001</td>\n",
       "      <td>act1_240724</td>\n",
       "      <td>2022-10-14</td>\n",
       "      <td>type 1</td>\n",
       "      <td>type 12</td>\n",
       "      <td>type 1</td>\n",
       "      <td>type 5</td>\n",
       "      <td>type 4</td>\n",
       "      <td>type 6</td>\n",
       "      <td>type 1</td>\n",
       "      <td>type 1</td>\n",
       "      <td>type 13</td>\n",
       "      <td>type 10</td>\n",
       "      <td>NaN</td>\n",
       "    </tr>\n",
       "    <tr>\n",
       "      <th>3</th>\n",
       "      <td>ppl_10001</td>\n",
       "      <td>act1_83552</td>\n",
       "      <td>2022-11-27</td>\n",
       "      <td>type 1</td>\n",
       "      <td>type 20</td>\n",
       "      <td>type 10</td>\n",
       "      <td>type 5</td>\n",
       "      <td>type 4</td>\n",
       "      <td>type 6</td>\n",
       "      <td>type 1</td>\n",
       "      <td>type 1</td>\n",
       "      <td>type 5</td>\n",
       "      <td>type 5</td>\n",
       "      <td>NaN</td>\n",
       "    </tr>\n",
       "    <tr>\n",
       "      <th>4</th>\n",
       "      <td>ppl_10001</td>\n",
       "      <td>act2_1043301</td>\n",
       "      <td>2022-10-15</td>\n",
       "      <td>type 5</td>\n",
       "      <td>NaN</td>\n",
       "      <td>NaN</td>\n",
       "      <td>NaN</td>\n",
       "      <td>NaN</td>\n",
       "      <td>NaN</td>\n",
       "      <td>NaN</td>\n",
       "      <td>NaN</td>\n",
       "      <td>NaN</td>\n",
       "      <td>NaN</td>\n",
       "      <td>type 3015</td>\n",
       "    </tr>\n",
       "    <tr>\n",
       "      <th>...</th>\n",
       "      <td>...</td>\n",
       "      <td>...</td>\n",
       "      <td>...</td>\n",
       "      <td>...</td>\n",
       "      <td>...</td>\n",
       "      <td>...</td>\n",
       "      <td>...</td>\n",
       "      <td>...</td>\n",
       "      <td>...</td>\n",
       "      <td>...</td>\n",
       "      <td>...</td>\n",
       "      <td>...</td>\n",
       "      <td>...</td>\n",
       "      <td>...</td>\n",
       "    </tr>\n",
       "    <tr>\n",
       "      <th>498682</th>\n",
       "      <td>ppl_99997</td>\n",
       "      <td>act2_4367092</td>\n",
       "      <td>2023-04-22</td>\n",
       "      <td>type 2</td>\n",
       "      <td>NaN</td>\n",
       "      <td>NaN</td>\n",
       "      <td>NaN</td>\n",
       "      <td>NaN</td>\n",
       "      <td>NaN</td>\n",
       "      <td>NaN</td>\n",
       "      <td>NaN</td>\n",
       "      <td>NaN</td>\n",
       "      <td>NaN</td>\n",
       "      <td>type 1</td>\n",
       "    </tr>\n",
       "    <tr>\n",
       "      <th>498683</th>\n",
       "      <td>ppl_99997</td>\n",
       "      <td>act2_4404220</td>\n",
       "      <td>2022-11-12</td>\n",
       "      <td>type 2</td>\n",
       "      <td>NaN</td>\n",
       "      <td>NaN</td>\n",
       "      <td>NaN</td>\n",
       "      <td>NaN</td>\n",
       "      <td>NaN</td>\n",
       "      <td>NaN</td>\n",
       "      <td>NaN</td>\n",
       "      <td>NaN</td>\n",
       "      <td>NaN</td>\n",
       "      <td>type 1</td>\n",
       "    </tr>\n",
       "    <tr>\n",
       "      <th>498684</th>\n",
       "      <td>ppl_99997</td>\n",
       "      <td>act2_448830</td>\n",
       "      <td>2022-08-02</td>\n",
       "      <td>type 2</td>\n",
       "      <td>NaN</td>\n",
       "      <td>NaN</td>\n",
       "      <td>NaN</td>\n",
       "      <td>NaN</td>\n",
       "      <td>NaN</td>\n",
       "      <td>NaN</td>\n",
       "      <td>NaN</td>\n",
       "      <td>NaN</td>\n",
       "      <td>NaN</td>\n",
       "      <td>type 1</td>\n",
       "    </tr>\n",
       "    <tr>\n",
       "      <th>498685</th>\n",
       "      <td>ppl_99997</td>\n",
       "      <td>act2_450133</td>\n",
       "      <td>2022-08-02</td>\n",
       "      <td>type 2</td>\n",
       "      <td>NaN</td>\n",
       "      <td>NaN</td>\n",
       "      <td>NaN</td>\n",
       "      <td>NaN</td>\n",
       "      <td>NaN</td>\n",
       "      <td>NaN</td>\n",
       "      <td>NaN</td>\n",
       "      <td>NaN</td>\n",
       "      <td>NaN</td>\n",
       "      <td>type 1</td>\n",
       "    </tr>\n",
       "    <tr>\n",
       "      <th>498686</th>\n",
       "      <td>ppl_99997</td>\n",
       "      <td>act2_847967</td>\n",
       "      <td>2022-10-15</td>\n",
       "      <td>type 2</td>\n",
       "      <td>NaN</td>\n",
       "      <td>NaN</td>\n",
       "      <td>NaN</td>\n",
       "      <td>NaN</td>\n",
       "      <td>NaN</td>\n",
       "      <td>NaN</td>\n",
       "      <td>NaN</td>\n",
       "      <td>NaN</td>\n",
       "      <td>NaN</td>\n",
       "      <td>type 1</td>\n",
       "    </tr>\n",
       "  </tbody>\n",
       "</table>\n",
       "<p>498687 rows × 14 columns</p>\n",
       "</div>"
      ],
      "text/plain": [
       "             person_id     action_id        date action_type   char_1  \\\n",
       "Unnamed: 0                                                              \n",
       "0           ppl_100004   act1_249281  2022-07-20      type 1   type 5   \n",
       "1           ppl_100004   act2_230855  2022-07-20      type 5      NaN   \n",
       "2            ppl_10001   act1_240724  2022-10-14      type 1  type 12   \n",
       "3            ppl_10001    act1_83552  2022-11-27      type 1  type 20   \n",
       "4            ppl_10001  act2_1043301  2022-10-15      type 5      NaN   \n",
       "...                ...           ...         ...         ...      ...   \n",
       "498682       ppl_99997  act2_4367092  2023-04-22      type 2      NaN   \n",
       "498683       ppl_99997  act2_4404220  2022-11-12      type 2      NaN   \n",
       "498684       ppl_99997   act2_448830  2022-08-02      type 2      NaN   \n",
       "498685       ppl_99997   act2_450133  2022-08-02      type 2      NaN   \n",
       "498686       ppl_99997   act2_847967  2022-10-15      type 2      NaN   \n",
       "\n",
       "             char_2  char_3  char_4  char_5  char_6  char_7   char_8   char_9  \\\n",
       "Unnamed: 0                                                                      \n",
       "0           type 10  type 5  type 1  type 6  type 1  type 1   type 7   type 4   \n",
       "1               NaN     NaN     NaN     NaN     NaN     NaN      NaN      NaN   \n",
       "2            type 1  type 5  type 4  type 6  type 1  type 1  type 13  type 10   \n",
       "3           type 10  type 5  type 4  type 6  type 1  type 1   type 5   type 5   \n",
       "4               NaN     NaN     NaN     NaN     NaN     NaN      NaN      NaN   \n",
       "...             ...     ...     ...     ...     ...     ...      ...      ...   \n",
       "498682          NaN     NaN     NaN     NaN     NaN     NaN      NaN      NaN   \n",
       "498683          NaN     NaN     NaN     NaN     NaN     NaN      NaN      NaN   \n",
       "498684          NaN     NaN     NaN     NaN     NaN     NaN      NaN      NaN   \n",
       "498685          NaN     NaN     NaN     NaN     NaN     NaN      NaN      NaN   \n",
       "498686          NaN     NaN     NaN     NaN     NaN     NaN      NaN      NaN   \n",
       "\n",
       "              char_10  \n",
       "Unnamed: 0             \n",
       "0                 NaN  \n",
       "1            type 682  \n",
       "2                 NaN  \n",
       "3                 NaN  \n",
       "4           type 3015  \n",
       "...               ...  \n",
       "498682         type 1  \n",
       "498683         type 1  \n",
       "498684         type 1  \n",
       "498685         type 1  \n",
       "498686         type 1  \n",
       "\n",
       "[498687 rows x 14 columns]"
      ]
     },
     "execution_count": 63,
     "metadata": {},
     "output_type": "execute_result"
    }
   ],
   "source": [
    "df_test"
   ]
  },
  {
   "cell_type": "code",
   "execution_count": 58,
   "metadata": {},
   "outputs": [
    {
     "data": {
      "text/plain": [
       "10    62161\n",
       "11    54086\n",
       "09    51371\n",
       "08    30337\n",
       "12    20742\n",
       "07    12109\n",
       "Name: m, dtype: int64"
      ]
     },
     "execution_count": 58,
     "metadata": {},
     "output_type": "execute_result"
    }
   ],
   "source": [
    "df_test_date[df_test_date.y=='2022'].m.value_counts()"
   ]
  },
  {
   "cell_type": "code",
   "execution_count": 59,
   "metadata": {},
   "outputs": [
    {
     "data": {
      "text/plain": [
       "02    48903\n",
       "03    41465\n",
       "01    39926\n",
       "06    34746\n",
       "04    28801\n",
       "07    27965\n",
       "08    25979\n",
       "05    20096\n",
       "Name: m, dtype: int64"
      ]
     },
     "execution_count": 59,
     "metadata": {},
     "output_type": "execute_result"
    }
   ],
   "source": [
    "df_test_date[df_test_date.y=='2023'].m.value_counts()"
   ]
  },
  {
   "cell_type": "code",
   "execution_count": 62,
   "metadata": {},
   "outputs": [
    {
     "name": "stdout",
     "output_type": "stream",
     "text": [
      "2022\n",
      "['07', '08']\n",
      "07\n"
     ]
    },
    {
     "data": {
      "image/png": "[encoded data removed]",
      "text/plain": [
       "<Figure size 432x288 with 1 Axes>"
      ]
     },
     "metadata": {
      "needs_background": "light"
     },
     "output_type": "display_data"
    },
    {
     "name": "stdout",
     "output_type": "stream",
     "text": [
      "08\n"
     ]
    },
    {
     "data": {
      "image/png": "[encoded data removed]",
      "text/plain": [
       "<Figure size 432x288 with 1 Axes>"
      ]
     },
     "metadata": {
      "needs_background": "light"
     },
     "output_type": "display_data"
    },
    {
     "name": "stdout",
     "output_type": "stream",
     "text": [
      "2023\n",
      "['07', '08']\n",
      "07\n"
     ]
    },
    {
     "data": {
      "image/png": "[encoded data removed]",
      "text/plain": [
       "<Figure size 432x288 with 1 Axes>"
      ]
     },
     "metadata": {
      "needs_background": "light"
     },
     "output_type": "display_data"
    },
    {
     "name": "stdout",
     "output_type": "stream",
     "text": [
      "08\n"
     ]
    },
    {
     "data": {
      "image/png": "[encoded data removed]",
      "text/plain": [
       "<Figure size 432x288 with 1 Axes>"
      ]
     },
     "metadata": {
      "needs_background": "light"
     },
     "output_type": "display_data"
    }
   ],
   "source": [
    "for year in ['2022', '2023']:\n",
    "#     months = sorted(df_date[df_date.y == year].m.unique())\n",
    "    months = ['07', '08']\n",
    "    print(year)\n",
    "    print(months)\n",
    "    df_year = df_test_date[df_test_date.y == year]\n",
    "    for i in months:\n",
    "        df2 = df_year[df_year.m == i]\n",
    "        df2 = df2.sort_values('d')\n",
    "        sns.countplot(x='d', data=df2)\n",
    "        print(i)\n",
    "        plt.show()\n"
   ]
  },
  {
   "cell_type": "code",
   "execution_count": 64,
   "metadata": {},
   "outputs": [
    {
     "name": "stdout",
     "output_type": "stream",
     "text": [
      "2022\n",
      "['07', '08']\n",
      "07\n"
     ]
    },
    {
     "data": {
      "image/png": "[encoded data removed]",
      "text/plain": [
       "<Figure size 432x288 with 1 Axes>"
      ]
     },
     "metadata": {
      "needs_background": "light"
     },
     "output_type": "display_data"
    },
    {
     "name": "stdout",
     "output_type": "stream",
     "text": [
      "08\n"
     ]
    },
    {
     "data": {
      "image/png": "[encoded data removed]",
      "text/plain": [
       "<Figure size 432x288 with 1 Axes>"
      ]
     },
     "metadata": {
      "needs_background": "light"
     },
     "output_type": "display_data"
    },
    {
     "name": "stdout",
     "output_type": "stream",
     "text": [
      "2023\n",
      "['07', '08']\n",
      "07\n"
     ]
    },
    {
     "data": {
      "image/png": "[encoded data removed]",
      "text/plain": [
       "<Figure size 432x288 with 1 Axes>"
      ]
     },
     "metadata": {
      "needs_background": "light"
     },
     "output_type": "display_data"
    },
    {
     "name": "stdout",
     "output_type": "stream",
     "text": [
      "08\n"
     ]
    },
    {
     "data": {
      "image/png": "[encoded data removed]",
      "text/plain": [
       "<Figure size 432x288 with 1 Axes>"
      ]
     },
     "metadata": {
      "needs_background": "light"
     },
     "output_type": "display_data"
    }
   ],
   "source": [
    "for year in ['2022', '2023']:\n",
    "#     months = sorted(df_date[df_date.y == year].m.unique())\n",
    "    months = ['07', '08']\n",
    "    print(year)\n",
    "    print(months)\n",
    "    df_year = df_train_date[df_train_date.y == year]\n",
    "    for i in months:\n",
    "        df2 = df_year[df_year.m == i]\n",
    "        df2 = df2.sort_values('d')\n",
    "        sns.countplot(x='d', data=df2)\n",
    "        print(i)\n",
    "        plt.show()\n"
   ]
  },
  {
   "cell_type": "code",
   "execution_count": null,
   "metadata": {},
   "outputs": [],
   "source": [
    "df_train.date.value_counts().describe()"
   ]
  },
  {
   "cell_type": "code",
   "execution_count": null,
   "metadata": {},
   "outputs": [],
   "source": [
    "sns.barplot(x='date', y='result', hue='result', data=df_train)"
   ]
  },
  {
   "cell_type": "code",
   "execution_count": null,
   "metadata": {},
   "outputs": [],
   "source": [
    "# df_persons.corr()\n",
    "\n",
    "plt.figure(figsize=(100, 40))\n",
    "sns.heatmap(df_persons.corr(), annot = True, fmt = \".2f\",robust=True,linewidths=1.3,linecolor = 'gold')\n",
    "plt.show()"
   ]
  },
  {
   "cell_type": "code",
   "execution_count": null,
   "metadata": {},
   "outputs": [],
   "source": [
    "df_train"
   ]
  },
  {
   "cell_type": "code",
   "execution_count": null,
   "metadata": {},
   "outputs": [],
   "source": []
  },
  {
   "cell_type": "code",
   "execution_count": null,
   "metadata": {},
   "outputs": [],
   "source": [
    "df_data = df_train[['date', 'result']].copy()\n",
    "df_data['count'] = 0\n",
    "df_data"
   ]
  },
  {
   "cell_type": "code",
   "execution_count": null,
   "metadata": {},
   "outputs": [],
   "source": [
    "df_data = df_data.groupby(['date', 'result']).count()* 100 / df_train.shape[0]"
   ]
  },
  {
   "cell_type": "code",
   "execution_count": null,
   "metadata": {},
   "outputs": [],
   "source": [
    "df_data"
   ]
  },
  {
   "cell_type": "code",
   "execution_count": null,
   "metadata": {},
   "outputs": [],
   "source": [
    "df_data.sort_values('count')"
   ]
  },
  {
   "cell_type": "code",
   "execution_count": null,
   "metadata": {},
   "outputs": [],
   "source": [
    "df_train.date.nunique()"
   ]
  },
  {
   "cell_type": "markdown",
   "metadata": {},
   "source": [
    "Поработаем с верменем"
   ]
  },
  {
   "cell_type": "code",
   "execution_count": null,
   "metadata": {},
   "outputs": [],
   "source": [
    "df_data"
   ]
  },
  {
   "cell_type": "code",
   "execution_count": 4,
   "metadata": {},
   "outputs": [
    {
     "data": {
      "text/html": [
       "<div>\n",
       "<style scoped>\n",
       "    .dataframe tbody tr th:only-of-type {\n",
       "        vertical-align: middle;\n",
       "    }\n",
       "\n",
       "    .dataframe tbody tr th {\n",
       "        vertical-align: top;\n",
       "    }\n",
       "\n",
       "    .dataframe thead th {\n",
       "        text-align: right;\n",
       "    }\n",
       "</style>\n",
       "<table border=\"1\" class=\"dataframe\">\n",
       "  <thead>\n",
       "    <tr style=\"text-align: right;\">\n",
       "      <th></th>\n",
       "      <th>person_id</th>\n",
       "      <th>action_id</th>\n",
       "      <th>date</th>\n",
       "      <th>action_type</th>\n",
       "      <th>char_1</th>\n",
       "      <th>char_2</th>\n",
       "      <th>char_3</th>\n",
       "      <th>char_4</th>\n",
       "      <th>char_5</th>\n",
       "      <th>char_6</th>\n",
       "      <th>char_7</th>\n",
       "      <th>char_8</th>\n",
       "      <th>char_9</th>\n",
       "      <th>char_10</th>\n",
       "      <th>result</th>\n",
       "    </tr>\n",
       "    <tr>\n",
       "      <th>Unnamed: 0</th>\n",
       "      <th></th>\n",
       "      <th></th>\n",
       "      <th></th>\n",
       "      <th></th>\n",
       "      <th></th>\n",
       "      <th></th>\n",
       "      <th></th>\n",
       "      <th></th>\n",
       "      <th></th>\n",
       "      <th></th>\n",
       "      <th></th>\n",
       "      <th></th>\n",
       "      <th></th>\n",
       "      <th></th>\n",
       "      <th></th>\n",
       "    </tr>\n",
       "  </thead>\n",
       "  <tbody>\n",
       "    <tr>\n",
       "      <th>0</th>\n",
       "      <td>ppl_100</td>\n",
       "      <td>act2_1734928</td>\n",
       "      <td>2023-08-26</td>\n",
       "      <td>type 4</td>\n",
       "      <td>NaN</td>\n",
       "      <td>NaN</td>\n",
       "      <td>NaN</td>\n",
       "      <td>NaN</td>\n",
       "      <td>NaN</td>\n",
       "      <td>NaN</td>\n",
       "      <td>NaN</td>\n",
       "      <td>NaN</td>\n",
       "      <td>NaN</td>\n",
       "      <td>type 76</td>\n",
       "      <td>0</td>\n",
       "    </tr>\n",
       "    <tr>\n",
       "      <th>1</th>\n",
       "      <td>ppl_100</td>\n",
       "      <td>act2_2434093</td>\n",
       "      <td>2022-09-27</td>\n",
       "      <td>type 2</td>\n",
       "      <td>NaN</td>\n",
       "      <td>NaN</td>\n",
       "      <td>NaN</td>\n",
       "      <td>NaN</td>\n",
       "      <td>NaN</td>\n",
       "      <td>NaN</td>\n",
       "      <td>NaN</td>\n",
       "      <td>NaN</td>\n",
       "      <td>NaN</td>\n",
       "      <td>type 1</td>\n",
       "      <td>0</td>\n",
       "    </tr>\n",
       "    <tr>\n",
       "      <th>2</th>\n",
       "      <td>ppl_100</td>\n",
       "      <td>act2_3404049</td>\n",
       "      <td>2022-09-27</td>\n",
       "      <td>type 2</td>\n",
       "      <td>NaN</td>\n",
       "      <td>NaN</td>\n",
       "      <td>NaN</td>\n",
       "      <td>NaN</td>\n",
       "      <td>NaN</td>\n",
       "      <td>NaN</td>\n",
       "      <td>NaN</td>\n",
       "      <td>NaN</td>\n",
       "      <td>NaN</td>\n",
       "      <td>type 1</td>\n",
       "      <td>0</td>\n",
       "    </tr>\n",
       "    <tr>\n",
       "      <th>3</th>\n",
       "      <td>ppl_100</td>\n",
       "      <td>act2_3651215</td>\n",
       "      <td>2023-08-04</td>\n",
       "      <td>type 2</td>\n",
       "      <td>NaN</td>\n",
       "      <td>NaN</td>\n",
       "      <td>NaN</td>\n",
       "      <td>NaN</td>\n",
       "      <td>NaN</td>\n",
       "      <td>NaN</td>\n",
       "      <td>NaN</td>\n",
       "      <td>NaN</td>\n",
       "      <td>NaN</td>\n",
       "      <td>type 1</td>\n",
       "      <td>0</td>\n",
       "    </tr>\n",
       "    <tr>\n",
       "      <th>4</th>\n",
       "      <td>ppl_100</td>\n",
       "      <td>act2_4109017</td>\n",
       "      <td>2023-08-26</td>\n",
       "      <td>type 2</td>\n",
       "      <td>NaN</td>\n",
       "      <td>NaN</td>\n",
       "      <td>NaN</td>\n",
       "      <td>NaN</td>\n",
       "      <td>NaN</td>\n",
       "      <td>NaN</td>\n",
       "      <td>NaN</td>\n",
       "      <td>NaN</td>\n",
       "      <td>NaN</td>\n",
       "      <td>type 1</td>\n",
       "      <td>0</td>\n",
       "    </tr>\n",
       "    <tr>\n",
       "      <th>...</th>\n",
       "      <td>...</td>\n",
       "      <td>...</td>\n",
       "      <td>...</td>\n",
       "      <td>...</td>\n",
       "      <td>...</td>\n",
       "      <td>...</td>\n",
       "      <td>...</td>\n",
       "      <td>...</td>\n",
       "      <td>...</td>\n",
       "      <td>...</td>\n",
       "      <td>...</td>\n",
       "      <td>...</td>\n",
       "      <td>...</td>\n",
       "      <td>...</td>\n",
       "      <td>...</td>\n",
       "    </tr>\n",
       "    <tr>\n",
       "      <th>2197286</th>\n",
       "      <td>ppl_99994</td>\n",
       "      <td>act2_4668076</td>\n",
       "      <td>2023-06-16</td>\n",
       "      <td>type 4</td>\n",
       "      <td>NaN</td>\n",
       "      <td>NaN</td>\n",
       "      <td>NaN</td>\n",
       "      <td>NaN</td>\n",
       "      <td>NaN</td>\n",
       "      <td>NaN</td>\n",
       "      <td>NaN</td>\n",
       "      <td>NaN</td>\n",
       "      <td>NaN</td>\n",
       "      <td>type 418</td>\n",
       "      <td>1</td>\n",
       "    </tr>\n",
       "    <tr>\n",
       "      <th>2197287</th>\n",
       "      <td>ppl_99994</td>\n",
       "      <td>act2_4743548</td>\n",
       "      <td>2023-03-30</td>\n",
       "      <td>type 4</td>\n",
       "      <td>NaN</td>\n",
       "      <td>NaN</td>\n",
       "      <td>NaN</td>\n",
       "      <td>NaN</td>\n",
       "      <td>NaN</td>\n",
       "      <td>NaN</td>\n",
       "      <td>NaN</td>\n",
       "      <td>NaN</td>\n",
       "      <td>NaN</td>\n",
       "      <td>type 1832</td>\n",
       "      <td>1</td>\n",
       "    </tr>\n",
       "    <tr>\n",
       "      <th>2197288</th>\n",
       "      <td>ppl_99994</td>\n",
       "      <td>act2_536973</td>\n",
       "      <td>2023-01-19</td>\n",
       "      <td>type 2</td>\n",
       "      <td>NaN</td>\n",
       "      <td>NaN</td>\n",
       "      <td>NaN</td>\n",
       "      <td>NaN</td>\n",
       "      <td>NaN</td>\n",
       "      <td>NaN</td>\n",
       "      <td>NaN</td>\n",
       "      <td>NaN</td>\n",
       "      <td>NaN</td>\n",
       "      <td>type 1</td>\n",
       "      <td>1</td>\n",
       "    </tr>\n",
       "    <tr>\n",
       "      <th>2197289</th>\n",
       "      <td>ppl_99994</td>\n",
       "      <td>act2_688656</td>\n",
       "      <td>2023-05-02</td>\n",
       "      <td>type 4</td>\n",
       "      <td>NaN</td>\n",
       "      <td>NaN</td>\n",
       "      <td>NaN</td>\n",
       "      <td>NaN</td>\n",
       "      <td>NaN</td>\n",
       "      <td>NaN</td>\n",
       "      <td>NaN</td>\n",
       "      <td>NaN</td>\n",
       "      <td>NaN</td>\n",
       "      <td>type 199</td>\n",
       "      <td>1</td>\n",
       "    </tr>\n",
       "    <tr>\n",
       "      <th>2197290</th>\n",
       "      <td>ppl_99994</td>\n",
       "      <td>act2_715089</td>\n",
       "      <td>2023-06-15</td>\n",
       "      <td>type 2</td>\n",
       "      <td>NaN</td>\n",
       "      <td>NaN</td>\n",
       "      <td>NaN</td>\n",
       "      <td>NaN</td>\n",
       "      <td>NaN</td>\n",
       "      <td>NaN</td>\n",
       "      <td>NaN</td>\n",
       "      <td>NaN</td>\n",
       "      <td>NaN</td>\n",
       "      <td>type 1</td>\n",
       "      <td>1</td>\n",
       "    </tr>\n",
       "  </tbody>\n",
       "</table>\n",
       "<p>2197291 rows × 15 columns</p>\n",
       "</div>"
      ],
      "text/plain": [
       "            person_id     action_id        date action_type char_1 char_2  \\\n",
       "Unnamed: 0                                                                  \n",
       "0             ppl_100  act2_1734928  2023-08-26      type 4    NaN    NaN   \n",
       "1             ppl_100  act2_2434093  2022-09-27      type 2    NaN    NaN   \n",
       "2             ppl_100  act2_3404049  2022-09-27      type 2    NaN    NaN   \n",
       "3             ppl_100  act2_3651215  2023-08-04      type 2    NaN    NaN   \n",
       "4             ppl_100  act2_4109017  2023-08-26      type 2    NaN    NaN   \n",
       "...               ...           ...         ...         ...    ...    ...   \n",
       "2197286     ppl_99994  act2_4668076  2023-06-16      type 4    NaN    NaN   \n",
       "2197287     ppl_99994  act2_4743548  2023-03-30      type 4    NaN    NaN   \n",
       "2197288     ppl_99994   act2_536973  2023-01-19      type 2    NaN    NaN   \n",
       "2197289     ppl_99994   act2_688656  2023-05-02      type 4    NaN    NaN   \n",
       "2197290     ppl_99994   act2_715089  2023-06-15      type 2    NaN    NaN   \n",
       "\n",
       "           char_3 char_4 char_5 char_6 char_7 char_8 char_9    char_10  result  \n",
       "Unnamed: 0                                                                      \n",
       "0             NaN    NaN    NaN    NaN    NaN    NaN    NaN    type 76       0  \n",
       "1             NaN    NaN    NaN    NaN    NaN    NaN    NaN     type 1       0  \n",
       "2             NaN    NaN    NaN    NaN    NaN    NaN    NaN     type 1       0  \n",
       "3             NaN    NaN    NaN    NaN    NaN    NaN    NaN     type 1       0  \n",
       "4             NaN    NaN    NaN    NaN    NaN    NaN    NaN     type 1       0  \n",
       "...           ...    ...    ...    ...    ...    ...    ...        ...     ...  \n",
       "2197286       NaN    NaN    NaN    NaN    NaN    NaN    NaN   type 418       1  \n",
       "2197287       NaN    NaN    NaN    NaN    NaN    NaN    NaN  type 1832       1  \n",
       "2197288       NaN    NaN    NaN    NaN    NaN    NaN    NaN     type 1       1  \n",
       "2197289       NaN    NaN    NaN    NaN    NaN    NaN    NaN   type 199       1  \n",
       "2197290       NaN    NaN    NaN    NaN    NaN    NaN    NaN     type 1       1  \n",
       "\n",
       "[2197291 rows x 15 columns]"
      ]
     },
     "execution_count": 4,
     "metadata": {},
     "output_type": "execute_result"
    }
   ],
   "source": [
    "df_train"
   ]
  },
  {
   "cell_type": "code",
   "execution_count": 10,
   "metadata": {},
   "outputs": [],
   "source": [
    "df_date = df_train[['date', 'result']]"
   ]
  },
  {
   "cell_type": "code",
   "execution_count": 9,
   "metadata": {},
   "outputs": [
    {
     "data": {
      "text/plain": [
       "411"
      ]
     },
     "execution_count": 9,
     "metadata": {},
     "output_type": "execute_result"
    }
   ],
   "source": [
    "df_train.date.nunique()"
   ]
  },
  {
   "cell_type": "code",
   "execution_count": 15,
   "metadata": {},
   "outputs": [
    {
     "data": {
      "text/html": [
       "<div>\n",
       "<style scoped>\n",
       "    .dataframe tbody tr th:only-of-type {\n",
       "        vertical-align: middle;\n",
       "    }\n",
       "\n",
       "    .dataframe tbody tr th {\n",
       "        vertical-align: top;\n",
       "    }\n",
       "\n",
       "    .dataframe thead th {\n",
       "        text-align: right;\n",
       "    }\n",
       "</style>\n",
       "<table border=\"1\" class=\"dataframe\">\n",
       "  <thead>\n",
       "    <tr style=\"text-align: right;\">\n",
       "      <th></th>\n",
       "      <th>date</th>\n",
       "      <th>result</th>\n",
       "    </tr>\n",
       "    <tr>\n",
       "      <th>Unnamed: 0</th>\n",
       "      <th></th>\n",
       "      <th></th>\n",
       "    </tr>\n",
       "  </thead>\n",
       "  <tbody>\n",
       "    <tr>\n",
       "      <th>1774199</th>\n",
       "      <td>2022-07-17</td>\n",
       "      <td>1</td>\n",
       "    </tr>\n",
       "    <tr>\n",
       "      <th>1445177</th>\n",
       "      <td>2022-07-17</td>\n",
       "      <td>0</td>\n",
       "    </tr>\n",
       "    <tr>\n",
       "      <th>2101435</th>\n",
       "      <td>2022-07-17</td>\n",
       "      <td>1</td>\n",
       "    </tr>\n",
       "    <tr>\n",
       "      <th>1445174</th>\n",
       "      <td>2022-07-17</td>\n",
       "      <td>0</td>\n",
       "    </tr>\n",
       "    <tr>\n",
       "      <th>864181</th>\n",
       "      <td>2022-07-17</td>\n",
       "      <td>0</td>\n",
       "    </tr>\n",
       "    <tr>\n",
       "      <th>...</th>\n",
       "      <td>...</td>\n",
       "      <td>...</td>\n",
       "    </tr>\n",
       "    <tr>\n",
       "      <th>391928</th>\n",
       "      <td>2023-08-31</td>\n",
       "      <td>0</td>\n",
       "    </tr>\n",
       "    <tr>\n",
       "      <th>626701</th>\n",
       "      <td>2023-08-31</td>\n",
       "      <td>0</td>\n",
       "    </tr>\n",
       "    <tr>\n",
       "      <th>753565</th>\n",
       "      <td>2023-08-31</td>\n",
       "      <td>1</td>\n",
       "    </tr>\n",
       "    <tr>\n",
       "      <th>1882387</th>\n",
       "      <td>2023-08-31</td>\n",
       "      <td>1</td>\n",
       "    </tr>\n",
       "    <tr>\n",
       "      <th>1969539</th>\n",
       "      <td>2023-08-31</td>\n",
       "      <td>1</td>\n",
       "    </tr>\n",
       "  </tbody>\n",
       "</table>\n",
       "<p>2197291 rows × 2 columns</p>\n",
       "</div>"
      ],
      "text/plain": [
       "                  date  result\n",
       "Unnamed: 0                    \n",
       "1774199     2022-07-17       1\n",
       "1445177     2022-07-17       0\n",
       "2101435     2022-07-17       1\n",
       "1445174     2022-07-17       0\n",
       "864181      2022-07-17       0\n",
       "...                ...     ...\n",
       "391928      2023-08-31       0\n",
       "626701      2023-08-31       0\n",
       "753565      2023-08-31       1\n",
       "1882387     2023-08-31       1\n",
       "1969539     2023-08-31       1\n",
       "\n",
       "[2197291 rows x 2 columns]"
      ]
     },
     "execution_count": 15,
     "metadata": {},
     "output_type": "execute_result"
    }
   ],
   "source": [
    "df_date = df_date.sort_values('date')\n",
    "df_date"
   ]
  },
  {
   "cell_type": "code",
   "execution_count": 14,
   "metadata": {},
   "outputs": [
    {
     "data": {
      "text/plain": [
       "<AxesSubplot:xlabel='date', ylabel='count'>"
      ]
     },
     "execution_count": 14,
     "metadata": {},
     "output_type": "execute_result"
    },
    {
     "data": {
      "image/png": "[encoded data removed]",
      "text/plain": [
       "<Figure size 432x288 with 1 Axes>"
      ]
     },
     "metadata": {
      "needs_background": "light"
     },
     "output_type": "display_data"
    }
   ],
   "source": [
    "import seaborn as sns\n",
    "\n",
    "sns.countplot(x='date', hue='result', data=df_date)\n"
   ]
  },
  {
   "cell_type": "code",
   "execution_count": 18,
   "metadata": {},
   "outputs": [],
   "source": [
    "y = []\n",
    "m = []\n",
    "d = []\n",
    "for i in df_date.date:\n",
    "    year, month, day = i.split('-')\n",
    "    y.append(year)\n",
    "    m.append(month)\n",
    "    d.append(day)\n",
    "    \n",
    "df_date['y'] = y\n",
    "df_date['m'] = m\n",
    "df_date['d'] = d"
   ]
  },
  {
   "cell_type": "code",
   "execution_count": 25,
   "metadata": {},
   "outputs": [
    {
     "data": {
      "text/plain": [
       "<AxesSubplot:xlabel='y', ylabel='count'>"
      ]
     },
     "execution_count": 25,
     "metadata": {},
     "output_type": "execute_result"
    },
    {
     "data": {
      "image/png": "[encoded data removed]",
      "text/plain": [
       "<Figure size 432x288 with 1 Axes>"
      ]
     },
     "metadata": {
      "needs_background": "light"
     },
     "output_type": "display_data"
    }
   ],
   "source": [
    "sns.countplot(x='y', hue='result', data=df_date.sort_values('y'))\n"
   ]
  },
  {
   "cell_type": "code",
   "execution_count": 27,
   "metadata": {},
   "outputs": [
    {
     "data": {
      "image/png": "[encoded data removed]",
      "text/plain": [
       "<Figure size 432x288 with 1 Axes>"
      ]
     },
     "metadata": {
      "needs_background": "light"
     },
     "output_type": "display_data"
    },
    {
     "data": {
      "image/png": "[encoded data removed]",
      "text/plain": [
       "<Figure size 432x288 with 1 Axes>"
      ]
     },
     "metadata": {
      "needs_background": "light"
     },
     "output_type": "display_data"
    }
   ],
   "source": [
    "df_date_2022 = df_date[df_date.y == '2022']\n",
    "sns.countplot(x='m', hue='result', data=df_date_2022.sort_values('m'))\n",
    "plt.show()\n",
    "\n",
    "df_date_2023 = df_date[df_date.y == '2023']\n",
    "sns.countplot(x='m', hue='result', data=df_date_2023.sort_values('m'))\n",
    "plt.show()"
   ]
  },
  {
   "cell_type": "code",
   "execution_count": 40,
   "metadata": {},
   "outputs": [
    {
     "data": {
      "text/html": [
       "<div>\n",
       "<style scoped>\n",
       "    .dataframe tbody tr th:only-of-type {\n",
       "        vertical-align: middle;\n",
       "    }\n",
       "\n",
       "    .dataframe tbody tr th {\n",
       "        vertical-align: top;\n",
       "    }\n",
       "\n",
       "    .dataframe thead th {\n",
       "        text-align: right;\n",
       "    }\n",
       "</style>\n",
       "<table border=\"1\" class=\"dataframe\">\n",
       "  <thead>\n",
       "    <tr style=\"text-align: right;\">\n",
       "      <th></th>\n",
       "      <th>date</th>\n",
       "      <th>result</th>\n",
       "      <th>y</th>\n",
       "      <th>m</th>\n",
       "      <th>d</th>\n",
       "    </tr>\n",
       "    <tr>\n",
       "      <th>Unnamed: 0</th>\n",
       "      <th></th>\n",
       "      <th></th>\n",
       "      <th></th>\n",
       "      <th></th>\n",
       "      <th></th>\n",
       "    </tr>\n",
       "  </thead>\n",
       "  <tbody>\n",
       "    <tr>\n",
       "      <th>1774199</th>\n",
       "      <td>2022-07-17</td>\n",
       "      <td>1</td>\n",
       "      <td>2022</td>\n",
       "      <td>07</td>\n",
       "      <td>17</td>\n",
       "    </tr>\n",
       "    <tr>\n",
       "      <th>1445177</th>\n",
       "      <td>2022-07-17</td>\n",
       "      <td>0</td>\n",
       "      <td>2022</td>\n",
       "      <td>07</td>\n",
       "      <td>17</td>\n",
       "    </tr>\n",
       "    <tr>\n",
       "      <th>2101435</th>\n",
       "      <td>2022-07-17</td>\n",
       "      <td>1</td>\n",
       "      <td>2022</td>\n",
       "      <td>07</td>\n",
       "      <td>17</td>\n",
       "    </tr>\n",
       "    <tr>\n",
       "      <th>1445174</th>\n",
       "      <td>2022-07-17</td>\n",
       "      <td>0</td>\n",
       "      <td>2022</td>\n",
       "      <td>07</td>\n",
       "      <td>17</td>\n",
       "    </tr>\n",
       "    <tr>\n",
       "      <th>864181</th>\n",
       "      <td>2022-07-17</td>\n",
       "      <td>0</td>\n",
       "      <td>2022</td>\n",
       "      <td>07</td>\n",
       "      <td>17</td>\n",
       "    </tr>\n",
       "    <tr>\n",
       "      <th>...</th>\n",
       "      <td>...</td>\n",
       "      <td>...</td>\n",
       "      <td>...</td>\n",
       "      <td>...</td>\n",
       "      <td>...</td>\n",
       "    </tr>\n",
       "    <tr>\n",
       "      <th>1092070</th>\n",
       "      <td>2022-12-31</td>\n",
       "      <td>0</td>\n",
       "      <td>2022</td>\n",
       "      <td>12</td>\n",
       "      <td>31</td>\n",
       "    </tr>\n",
       "    <tr>\n",
       "      <th>617916</th>\n",
       "      <td>2022-12-31</td>\n",
       "      <td>1</td>\n",
       "      <td>2022</td>\n",
       "      <td>12</td>\n",
       "      <td>31</td>\n",
       "    </tr>\n",
       "    <tr>\n",
       "      <th>374252</th>\n",
       "      <td>2022-12-31</td>\n",
       "      <td>0</td>\n",
       "      <td>2022</td>\n",
       "      <td>12</td>\n",
       "      <td>31</td>\n",
       "    </tr>\n",
       "    <tr>\n",
       "      <th>1137311</th>\n",
       "      <td>2022-12-31</td>\n",
       "      <td>0</td>\n",
       "      <td>2022</td>\n",
       "      <td>12</td>\n",
       "      <td>31</td>\n",
       "    </tr>\n",
       "    <tr>\n",
       "      <th>582846</th>\n",
       "      <td>2022-12-31</td>\n",
       "      <td>1</td>\n",
       "      <td>2022</td>\n",
       "      <td>12</td>\n",
       "      <td>31</td>\n",
       "    </tr>\n",
       "  </tbody>\n",
       "</table>\n",
       "<p>1124051 rows × 5 columns</p>\n",
       "</div>"
      ],
      "text/plain": [
       "                  date  result     y   m   d\n",
       "Unnamed: 0                                  \n",
       "1774199     2022-07-17       1  2022  07  17\n",
       "1445177     2022-07-17       0  2022  07  17\n",
       "2101435     2022-07-17       1  2022  07  17\n",
       "1445174     2022-07-17       0  2022  07  17\n",
       "864181      2022-07-17       0  2022  07  17\n",
       "...                ...     ...   ...  ..  ..\n",
       "1092070     2022-12-31       0  2022  12  31\n",
       "617916      2022-12-31       1  2022  12  31\n",
       "374252      2022-12-31       0  2022  12  31\n",
       "1137311     2022-12-31       0  2022  12  31\n",
       "582846      2022-12-31       1  2022  12  31\n",
       "\n",
       "[1124051 rows x 5 columns]"
      ]
     },
     "execution_count": 40,
     "metadata": {},
     "output_type": "execute_result"
    }
   ],
   "source": [
    "df_year = df_date[df_date.y == '2022']\n",
    "df_year"
   ]
  },
  {
   "cell_type": "code",
   "execution_count": 52,
   "metadata": {},
   "outputs": [
    {
     "name": "stdout",
     "output_type": "stream",
     "text": [
      "2022\n",
      "['07', '08']\n",
      "07\n"
     ]
    },
    {
     "data": {
      "image/png": "[encoded data removed]",
      "text/plain": [
       "<Figure size 432x288 with 1 Axes>"
      ]
     },
     "metadata": {
      "needs_background": "light"
     },
     "output_type": "display_data"
    },
    {
     "name": "stdout",
     "output_type": "stream",
     "text": [
      "08\n"
     ]
    },
    {
     "data": {
      "image/png": "[encoded data removed]",
      "text/plain": [
       "<Figure size 432x288 with 1 Axes>"
      ]
     },
     "metadata": {
      "needs_background": "light"
     },
     "output_type": "display_data"
    },
    {
     "name": "stdout",
     "output_type": "stream",
     "text": [
      "2023\n",
      "['07', '08']\n",
      "07\n"
     ]
    },
    {
     "data": {
      "image/png": "[encoded data removed]",
      "text/plain": [
       "<Figure size 432x288 with 1 Axes>"
      ]
     },
     "metadata": {
      "needs_background": "light"
     },
     "output_type": "display_data"
    },
    {
     "name": "stdout",
     "output_type": "stream",
     "text": [
      "08\n"
     ]
    },
    {
     "data": {
      "image/png": "[encoded data removed]",
      "text/plain": [
       "<Figure size 432x288 with 1 Axes>"
      ]
     },
     "metadata": {
      "needs_background": "light"
     },
     "output_type": "display_data"
    }
   ],
   "source": [
    "for year in ['2022', '2023']:\n",
    "#     months = sorted(df_date[df_date.y == year].m.unique())\n",
    "    months = ['07', '08']\n",
    "    print(year)\n",
    "    print(months)\n",
    "    df_year = df_date[df_date.y == year]\n",
    "    for i in months:\n",
    "        df2 = df_year[df_year.m == i]\n",
    "        df2 = df2.sort_values('d')\n",
    "        sns.countplot(x='d', hue='result', data=df2)\n",
    "        print(i)\n",
    "        plt.show()\n"
   ]
  },
  {
   "cell_type": "code",
   "execution_count": 35,
   "metadata": {},
   "outputs": [
    {
     "data": {
      "text/plain": [
       "['01', '02', '03', '04', '05', '06', '07', '08']"
      ]
     },
     "execution_count": 35,
     "metadata": {},
     "output_type": "execute_result"
    }
   ],
   "source": [
    "months = sorted(df_date[df_date.y == '2023'].m.unique())\n",
    "months"
   ]
  },
  {
   "cell_type": "code",
   "execution_count": 44,
   "metadata": {},
   "outputs": [
    {
     "data": {
      "text/plain": [
       "['07', '08', '09', '10', '11', '12']"
      ]
     },
     "execution_count": 44,
     "metadata": {},
     "output_type": "execute_result"
    }
   ],
   "source": [
    "months = sorted(df_date[df_date.y == '2022'].m.unique())\n",
    "months"
   ]
  },
  {
   "cell_type": "markdown",
   "metadata": {},
   "source": [
    "В выходные явно меньше активность!"
   ]
  },
  {
   "cell_type": "code",
   "execution_count": 56,
   "metadata": {},
   "outputs": [],
   "source": [
    "df_gd = df_persons[['group_1', 'date']]"
   ]
  },
  {
   "cell_type": "code",
   "execution_count": 57,
   "metadata": {},
   "outputs": [
    {
     "name": "stderr",
     "output_type": "stream",
     "text": [
      "<ipython-input-57-c57c958db43e>:10: SettingWithCopyWarning: \n",
      "A value is trying to be set on a copy of a slice from a DataFrame.\n",
      "Try using .loc[row_indexer,col_indexer] = value instead\n",
      "\n",
      "See the caveats in the documentation: https://pandas.pydata.org/pandas-docs/stable/user_guide/indexing.html#returning-a-view-versus-a-copy\n",
      "  df_gd['y'] = y\n",
      "<ipython-input-57-c57c958db43e>:11: SettingWithCopyWarning: \n",
      "A value is trying to be set on a copy of a slice from a DataFrame.\n",
      "Try using .loc[row_indexer,col_indexer] = value instead\n",
      "\n",
      "See the caveats in the documentation: https://pandas.pydata.org/pandas-docs/stable/user_guide/indexing.html#returning-a-view-versus-a-copy\n",
      "  df_gd['m'] = m\n",
      "<ipython-input-57-c57c958db43e>:12: SettingWithCopyWarning: \n",
      "A value is trying to be set on a copy of a slice from a DataFrame.\n",
      "Try using .loc[row_indexer,col_indexer] = value instead\n",
      "\n",
      "See the caveats in the documentation: https://pandas.pydata.org/pandas-docs/stable/user_guide/indexing.html#returning-a-view-versus-a-copy\n",
      "  df_gd['d'] = d\n"
     ]
    }
   ],
   "source": [
    "y = []\n",
    "m = []\n",
    "d = []\n",
    "for i in df_persons.date:\n",
    "    year, month, day = i.split('-')\n",
    "    y.append(year)\n",
    "    m.append(month)\n",
    "    d.append(day)\n",
    "    \n",
    "df_gd['y'] = y\n",
    "df_gd['m'] = m\n",
    "df_gd['d'] = d"
   ]
  },
  {
   "cell_type": "code",
   "execution_count": 59,
   "metadata": {},
   "outputs": [
    {
     "name": "stderr",
     "output_type": "stream",
     "text": [
      "<ipython-input-59-1b2215654ad1>:1: SettingWithCopyWarning: \n",
      "A value is trying to be set on a copy of a slice from a DataFrame.\n",
      "Try using .loc[row_indexer,col_indexer] = value instead\n",
      "\n",
      "See the caveats in the documentation: https://pandas.pydata.org/pandas-docs/stable/user_guide/indexing.html#returning-a-view-versus-a-copy\n",
      "  df_gd['count'] = 0\n"
     ]
    }
   ],
   "source": [
    "df_gd['count'] = 0"
   ]
  },
  {
   "cell_type": "code",
   "execution_count": 60,
   "metadata": {},
   "outputs": [
    {
     "data": {
      "text/html": [
       "<div>\n",
       "<style scoped>\n",
       "    .dataframe tbody tr th:only-of-type {\n",
       "        vertical-align: middle;\n",
       "    }\n",
       "\n",
       "    .dataframe tbody tr th {\n",
       "        vertical-align: top;\n",
       "    }\n",
       "\n",
       "    .dataframe thead th {\n",
       "        text-align: right;\n",
       "    }\n",
       "</style>\n",
       "<table border=\"1\" class=\"dataframe\">\n",
       "  <thead>\n",
       "    <tr style=\"text-align: right;\">\n",
       "      <th></th>\n",
       "      <th>group_1</th>\n",
       "      <th>date</th>\n",
       "      <th>y</th>\n",
       "      <th>m</th>\n",
       "      <th>d</th>\n",
       "      <th>count</th>\n",
       "    </tr>\n",
       "    <tr>\n",
       "      <th>Unnamed: 0</th>\n",
       "      <th></th>\n",
       "      <th></th>\n",
       "      <th></th>\n",
       "      <th></th>\n",
       "      <th></th>\n",
       "      <th></th>\n",
       "    </tr>\n",
       "  </thead>\n",
       "  <tbody>\n",
       "    <tr>\n",
       "      <th>0</th>\n",
       "      <td>group 17304</td>\n",
       "      <td>2021-06-29</td>\n",
       "      <td>2021</td>\n",
       "      <td>06</td>\n",
       "      <td>29</td>\n",
       "      <td>0</td>\n",
       "    </tr>\n",
       "    <tr>\n",
       "      <th>1</th>\n",
       "      <td>group 8688</td>\n",
       "      <td>2021-01-06</td>\n",
       "      <td>2021</td>\n",
       "      <td>01</td>\n",
       "      <td>06</td>\n",
       "      <td>0</td>\n",
       "    </tr>\n",
       "    <tr>\n",
       "      <th>2</th>\n",
       "      <td>group 33592</td>\n",
       "      <td>2022-06-10</td>\n",
       "      <td>2022</td>\n",
       "      <td>06</td>\n",
       "      <td>10</td>\n",
       "      <td>0</td>\n",
       "    </tr>\n",
       "    <tr>\n",
       "      <th>3</th>\n",
       "      <td>group 22593</td>\n",
       "      <td>2022-07-20</td>\n",
       "      <td>2022</td>\n",
       "      <td>07</td>\n",
       "      <td>20</td>\n",
       "      <td>0</td>\n",
       "    </tr>\n",
       "    <tr>\n",
       "      <th>4</th>\n",
       "      <td>group 6534</td>\n",
       "      <td>2022-07-27</td>\n",
       "      <td>2022</td>\n",
       "      <td>07</td>\n",
       "      <td>27</td>\n",
       "      <td>0</td>\n",
       "    </tr>\n",
       "    <tr>\n",
       "      <th>...</th>\n",
       "      <td>...</td>\n",
       "      <td>...</td>\n",
       "      <td>...</td>\n",
       "      <td>...</td>\n",
       "      <td>...</td>\n",
       "      <td>...</td>\n",
       "    </tr>\n",
       "    <tr>\n",
       "      <th>189113</th>\n",
       "      <td>group 8600</td>\n",
       "      <td>2022-04-02</td>\n",
       "      <td>2022</td>\n",
       "      <td>04</td>\n",
       "      <td>02</td>\n",
       "      <td>0</td>\n",
       "    </tr>\n",
       "    <tr>\n",
       "      <th>189114</th>\n",
       "      <td>group 17304</td>\n",
       "      <td>2023-02-23</td>\n",
       "      <td>2023</td>\n",
       "      <td>02</td>\n",
       "      <td>23</td>\n",
       "      <td>0</td>\n",
       "    </tr>\n",
       "    <tr>\n",
       "      <th>189115</th>\n",
       "      <td>group 17304</td>\n",
       "      <td>2020-06-25</td>\n",
       "      <td>2020</td>\n",
       "      <td>06</td>\n",
       "      <td>25</td>\n",
       "      <td>0</td>\n",
       "    </tr>\n",
       "    <tr>\n",
       "      <th>189116</th>\n",
       "      <td>group 17764</td>\n",
       "      <td>2023-01-06</td>\n",
       "      <td>2023</td>\n",
       "      <td>01</td>\n",
       "      <td>06</td>\n",
       "      <td>0</td>\n",
       "    </tr>\n",
       "    <tr>\n",
       "      <th>189117</th>\n",
       "      <td>group 17304</td>\n",
       "      <td>2022-03-12</td>\n",
       "      <td>2022</td>\n",
       "      <td>03</td>\n",
       "      <td>12</td>\n",
       "      <td>0</td>\n",
       "    </tr>\n",
       "  </tbody>\n",
       "</table>\n",
       "<p>189118 rows × 6 columns</p>\n",
       "</div>"
      ],
      "text/plain": [
       "                group_1        date     y   m   d  count\n",
       "Unnamed: 0                                              \n",
       "0           group 17304  2021-06-29  2021  06  29      0\n",
       "1            group 8688  2021-01-06  2021  01  06      0\n",
       "2           group 33592  2022-06-10  2022  06  10      0\n",
       "3           group 22593  2022-07-20  2022  07  20      0\n",
       "4            group 6534  2022-07-27  2022  07  27      0\n",
       "...                 ...         ...   ...  ..  ..    ...\n",
       "189113       group 8600  2022-04-02  2022  04  02      0\n",
       "189114      group 17304  2023-02-23  2023  02  23      0\n",
       "189115      group 17304  2020-06-25  2020  06  25      0\n",
       "189116      group 17764  2023-01-06  2023  01  06      0\n",
       "189117      group 17304  2022-03-12  2022  03  12      0\n",
       "\n",
       "[189118 rows x 6 columns]"
      ]
     },
     "execution_count": 60,
     "metadata": {},
     "output_type": "execute_result"
    }
   ],
   "source": [
    "df_gd.groupby"
   ]
  },
  {
   "cell_type": "code",
   "execution_count": 65,
   "metadata": {},
   "outputs": [
    {
     "data": {
      "text/html": [
       "<div>\n",
       "<style scoped>\n",
       "    .dataframe tbody tr th:only-of-type {\n",
       "        vertical-align: middle;\n",
       "    }\n",
       "\n",
       "    .dataframe tbody tr th {\n",
       "        vertical-align: top;\n",
       "    }\n",
       "\n",
       "    .dataframe thead th {\n",
       "        text-align: right;\n",
       "    }\n",
       "</style>\n",
       "<table border=\"1\" class=\"dataframe\">\n",
       "  <thead>\n",
       "    <tr style=\"text-align: right;\">\n",
       "      <th></th>\n",
       "      <th>date</th>\n",
       "      <th>y</th>\n",
       "      <th>m</th>\n",
       "      <th>d</th>\n",
       "      <th>count</th>\n",
       "    </tr>\n",
       "    <tr>\n",
       "      <th>group_1</th>\n",
       "      <th></th>\n",
       "      <th></th>\n",
       "      <th></th>\n",
       "      <th></th>\n",
       "      <th></th>\n",
       "    </tr>\n",
       "  </thead>\n",
       "  <tbody>\n",
       "    <tr>\n",
       "      <th>group 1</th>\n",
       "      <td>1</td>\n",
       "      <td>1</td>\n",
       "      <td>1</td>\n",
       "      <td>1</td>\n",
       "      <td>1</td>\n",
       "    </tr>\n",
       "    <tr>\n",
       "      <th>group 3216</th>\n",
       "      <td>1</td>\n",
       "      <td>1</td>\n",
       "      <td>1</td>\n",
       "      <td>1</td>\n",
       "      <td>1</td>\n",
       "    </tr>\n",
       "    <tr>\n",
       "      <th>group 32159</th>\n",
       "      <td>1</td>\n",
       "      <td>1</td>\n",
       "      <td>1</td>\n",
       "      <td>1</td>\n",
       "      <td>1</td>\n",
       "    </tr>\n",
       "    <tr>\n",
       "      <th>group 32158</th>\n",
       "      <td>1</td>\n",
       "      <td>1</td>\n",
       "      <td>1</td>\n",
       "      <td>1</td>\n",
       "      <td>1</td>\n",
       "    </tr>\n",
       "    <tr>\n",
       "      <th>group 32153</th>\n",
       "      <td>1</td>\n",
       "      <td>1</td>\n",
       "      <td>1</td>\n",
       "      <td>1</td>\n",
       "      <td>1</td>\n",
       "    </tr>\n",
       "    <tr>\n",
       "      <th>...</th>\n",
       "      <td>...</td>\n",
       "      <td>...</td>\n",
       "      <td>...</td>\n",
       "      <td>...</td>\n",
       "      <td>...</td>\n",
       "    </tr>\n",
       "    <tr>\n",
       "      <th>group 450</th>\n",
       "      <td>659</td>\n",
       "      <td>659</td>\n",
       "      <td>659</td>\n",
       "      <td>659</td>\n",
       "      <td>659</td>\n",
       "    </tr>\n",
       "    <tr>\n",
       "      <th>group 9280</th>\n",
       "      <td>666</td>\n",
       "      <td>666</td>\n",
       "      <td>666</td>\n",
       "      <td>666</td>\n",
       "      <td>666</td>\n",
       "    </tr>\n",
       "    <tr>\n",
       "      <th>group 8386</th>\n",
       "      <td>1046</td>\n",
       "      <td>1046</td>\n",
       "      <td>1046</td>\n",
       "      <td>1046</td>\n",
       "      <td>1046</td>\n",
       "    </tr>\n",
       "    <tr>\n",
       "      <th>group 667</th>\n",
       "      <td>1538</td>\n",
       "      <td>1538</td>\n",
       "      <td>1538</td>\n",
       "      <td>1538</td>\n",
       "      <td>1538</td>\n",
       "    </tr>\n",
       "    <tr>\n",
       "      <th>group 17304</th>\n",
       "      <td>77314</td>\n",
       "      <td>77314</td>\n",
       "      <td>77314</td>\n",
       "      <td>77314</td>\n",
       "      <td>77314</td>\n",
       "    </tr>\n",
       "  </tbody>\n",
       "</table>\n",
       "<p>34224 rows × 5 columns</p>\n",
       "</div>"
      ],
      "text/plain": [
       "              date      y      m      d  count\n",
       "group_1                                       \n",
       "group 1          1      1      1      1      1\n",
       "group 3216       1      1      1      1      1\n",
       "group 32159      1      1      1      1      1\n",
       "group 32158      1      1      1      1      1\n",
       "group 32153      1      1      1      1      1\n",
       "...            ...    ...    ...    ...    ...\n",
       "group 450      659    659    659    659    659\n",
       "group 9280     666    666    666    666    666\n",
       "group 8386    1046   1046   1046   1046   1046\n",
       "group 667     1538   1538   1538   1538   1538\n",
       "group 17304  77314  77314  77314  77314  77314\n",
       "\n",
       "[34224 rows x 5 columns]"
      ]
     },
     "execution_count": 65,
     "metadata": {},
     "output_type": "execute_result"
    }
   ],
   "source": [
    "df_gd.groupby('group_1').count().sort_values('count')"
   ]
  },
  {
   "cell_type": "code",
   "execution_count": 66,
   "metadata": {},
   "outputs": [
    {
     "data": {
      "text/html": [
       "<div>\n",
       "<style scoped>\n",
       "    .dataframe tbody tr th:only-of-type {\n",
       "        vertical-align: middle;\n",
       "    }\n",
       "\n",
       "    .dataframe tbody tr th {\n",
       "        vertical-align: top;\n",
       "    }\n",
       "\n",
       "    .dataframe thead th {\n",
       "        text-align: right;\n",
       "    }\n",
       "</style>\n",
       "<table border=\"1\" class=\"dataframe\">\n",
       "  <thead>\n",
       "    <tr style=\"text-align: right;\">\n",
       "      <th></th>\n",
       "      <th>group_1</th>\n",
       "      <th>date</th>\n",
       "      <th>y</th>\n",
       "      <th>m</th>\n",
       "      <th>d</th>\n",
       "      <th>count</th>\n",
       "    </tr>\n",
       "    <tr>\n",
       "      <th>Unnamed: 0</th>\n",
       "      <th></th>\n",
       "      <th></th>\n",
       "      <th></th>\n",
       "      <th></th>\n",
       "      <th></th>\n",
       "      <th></th>\n",
       "    </tr>\n",
       "  </thead>\n",
       "  <tbody>\n",
       "    <tr>\n",
       "      <th>0</th>\n",
       "      <td>group 17304</td>\n",
       "      <td>2021-06-29</td>\n",
       "      <td>2021</td>\n",
       "      <td>06</td>\n",
       "      <td>29</td>\n",
       "      <td>0</td>\n",
       "    </tr>\n",
       "    <tr>\n",
       "      <th>6</th>\n",
       "      <td>group 17304</td>\n",
       "      <td>2022-09-01</td>\n",
       "      <td>2022</td>\n",
       "      <td>09</td>\n",
       "      <td>01</td>\n",
       "      <td>0</td>\n",
       "    </tr>\n",
       "    <tr>\n",
       "      <th>10</th>\n",
       "      <td>group 17304</td>\n",
       "      <td>2023-04-21</td>\n",
       "      <td>2023</td>\n",
       "      <td>04</td>\n",
       "      <td>21</td>\n",
       "      <td>0</td>\n",
       "    </tr>\n",
       "    <tr>\n",
       "      <th>11</th>\n",
       "      <td>group 17304</td>\n",
       "      <td>2023-07-15</td>\n",
       "      <td>2023</td>\n",
       "      <td>07</td>\n",
       "      <td>15</td>\n",
       "      <td>0</td>\n",
       "    </tr>\n",
       "    <tr>\n",
       "      <th>13</th>\n",
       "      <td>group 17304</td>\n",
       "      <td>2022-07-26</td>\n",
       "      <td>2022</td>\n",
       "      <td>07</td>\n",
       "      <td>26</td>\n",
       "      <td>0</td>\n",
       "    </tr>\n",
       "    <tr>\n",
       "      <th>...</th>\n",
       "      <td>...</td>\n",
       "      <td>...</td>\n",
       "      <td>...</td>\n",
       "      <td>...</td>\n",
       "      <td>...</td>\n",
       "      <td>...</td>\n",
       "    </tr>\n",
       "    <tr>\n",
       "      <th>189111</th>\n",
       "      <td>group 17304</td>\n",
       "      <td>2023-01-26</td>\n",
       "      <td>2023</td>\n",
       "      <td>01</td>\n",
       "      <td>26</td>\n",
       "      <td>0</td>\n",
       "    </tr>\n",
       "    <tr>\n",
       "      <th>189112</th>\n",
       "      <td>group 17304</td>\n",
       "      <td>2021-03-27</td>\n",
       "      <td>2021</td>\n",
       "      <td>03</td>\n",
       "      <td>27</td>\n",
       "      <td>0</td>\n",
       "    </tr>\n",
       "    <tr>\n",
       "      <th>189114</th>\n",
       "      <td>group 17304</td>\n",
       "      <td>2023-02-23</td>\n",
       "      <td>2023</td>\n",
       "      <td>02</td>\n",
       "      <td>23</td>\n",
       "      <td>0</td>\n",
       "    </tr>\n",
       "    <tr>\n",
       "      <th>189115</th>\n",
       "      <td>group 17304</td>\n",
       "      <td>2020-06-25</td>\n",
       "      <td>2020</td>\n",
       "      <td>06</td>\n",
       "      <td>25</td>\n",
       "      <td>0</td>\n",
       "    </tr>\n",
       "    <tr>\n",
       "      <th>189117</th>\n",
       "      <td>group 17304</td>\n",
       "      <td>2022-03-12</td>\n",
       "      <td>2022</td>\n",
       "      <td>03</td>\n",
       "      <td>12</td>\n",
       "      <td>0</td>\n",
       "    </tr>\n",
       "  </tbody>\n",
       "</table>\n",
       "<p>77314 rows × 6 columns</p>\n",
       "</div>"
      ],
      "text/plain": [
       "                group_1        date     y   m   d  count\n",
       "Unnamed: 0                                              \n",
       "0           group 17304  2021-06-29  2021  06  29      0\n",
       "6           group 17304  2022-09-01  2022  09  01      0\n",
       "10          group 17304  2023-04-21  2023  04  21      0\n",
       "11          group 17304  2023-07-15  2023  07  15      0\n",
       "13          group 17304  2022-07-26  2022  07  26      0\n",
       "...                 ...         ...   ...  ..  ..    ...\n",
       "189111      group 17304  2023-01-26  2023  01  26      0\n",
       "189112      group 17304  2021-03-27  2021  03  27      0\n",
       "189114      group 17304  2023-02-23  2023  02  23      0\n",
       "189115      group 17304  2020-06-25  2020  06  25      0\n",
       "189117      group 17304  2022-03-12  2022  03  12      0\n",
       "\n",
       "[77314 rows x 6 columns]"
      ]
     },
     "execution_count": 66,
     "metadata": {},
     "output_type": "execute_result"
    }
   ],
   "source": [
    "group_17304 = df_gd[df_gd.group_1 == 'group 17304']\n",
    "group_17304"
   ]
  },
  {
   "cell_type": "code",
   "execution_count": 75,
   "metadata": {},
   "outputs": [
    {
     "data": {
      "text/plain": [
       "<AxesSubplot:xlabel='y', ylabel='count'>"
      ]
     },
     "execution_count": 75,
     "metadata": {},
     "output_type": "execute_result"
    },
    {
     "ename": "ValueError",
     "evalue": "Image size of 402x513429 pixels is too large. It must be less than 2^16 in each direction.",
     "output_type": "error",
     "traceback": [
      "\u001b[1;31m---------------------------------------------------------------------------\u001b[0m",
      "\u001b[1;31mValueError\u001b[0m                                Traceback (most recent call last)",
      "\u001b[1;32mC:\\Program Files (x86)\\pit\\lib\\site-packages\\IPython\\core\\formatters.py\u001b[0m in \u001b[0;36m__call__\u001b[1;34m(self, obj)\u001b[0m\n\u001b[0;32m    339\u001b[0m                 \u001b[1;32mpass\u001b[0m\u001b[1;33m\u001b[0m\u001b[1;33m\u001b[0m\u001b[0m\n\u001b[0;32m    340\u001b[0m             \u001b[1;32melse\u001b[0m\u001b[1;33m:\u001b[0m\u001b[1;33m\u001b[0m\u001b[1;33m\u001b[0m\u001b[0m\n\u001b[1;32m--> 341\u001b[1;33m                 \u001b[1;32mreturn\u001b[0m \u001b[0mprinter\u001b[0m\u001b[1;33m(\u001b[0m\u001b[0mobj\u001b[0m\u001b[1;33m)\u001b[0m\u001b[1;33m\u001b[0m\u001b[1;33m\u001b[0m\u001b[0m\n\u001b[0m\u001b[0;32m    342\u001b[0m             \u001b[1;31m# Finally look for special method names\u001b[0m\u001b[1;33m\u001b[0m\u001b[1;33m\u001b[0m\u001b[1;33m\u001b[0m\u001b[0m\n\u001b[0;32m    343\u001b[0m             \u001b[0mmethod\u001b[0m \u001b[1;33m=\u001b[0m \u001b[0mget_real_method\u001b[0m\u001b[1;33m(\u001b[0m\u001b[0mobj\u001b[0m\u001b[1;33m,\u001b[0m \u001b[0mself\u001b[0m\u001b[1;33m.\u001b[0m\u001b[0mprint_method\u001b[0m\u001b[1;33m)\u001b[0m\u001b[1;33m\u001b[0m\u001b[1;33m\u001b[0m\u001b[0m\n",
      "\u001b[1;32mC:\\Program Files (x86)\\pit\\lib\\site-packages\\IPython\\core\\pylabtools.py\u001b[0m in \u001b[0;36m<lambda>\u001b[1;34m(fig)\u001b[0m\n\u001b[0;32m    246\u001b[0m \u001b[1;33m\u001b[0m\u001b[0m\n\u001b[0;32m    247\u001b[0m     \u001b[1;32mif\u001b[0m \u001b[1;34m'png'\u001b[0m \u001b[1;32min\u001b[0m \u001b[0mformats\u001b[0m\u001b[1;33m:\u001b[0m\u001b[1;33m\u001b[0m\u001b[1;33m\u001b[0m\u001b[0m\n\u001b[1;32m--> 248\u001b[1;33m         \u001b[0mpng_formatter\u001b[0m\u001b[1;33m.\u001b[0m\u001b[0mfor_type\u001b[0m\u001b[1;33m(\u001b[0m\u001b[0mFigure\u001b[0m\u001b[1;33m,\u001b[0m \u001b[1;32mlambda\u001b[0m \u001b[0mfig\u001b[0m\u001b[1;33m:\u001b[0m \u001b[0mprint_figure\u001b[0m\u001b[1;33m(\u001b[0m\u001b[0mfig\u001b[0m\u001b[1;33m,\u001b[0m \u001b[1;34m'png'\u001b[0m\u001b[1;33m,\u001b[0m \u001b[1;33m**\u001b[0m\u001b[0mkwargs\u001b[0m\u001b[1;33m)\u001b[0m\u001b[1;33m)\u001b[0m\u001b[1;33m\u001b[0m\u001b[1;33m\u001b[0m\u001b[0m\n\u001b[0m\u001b[0;32m    249\u001b[0m     \u001b[1;32mif\u001b[0m \u001b[1;34m'retina'\u001b[0m \u001b[1;32min\u001b[0m \u001b[0mformats\u001b[0m \u001b[1;32mor\u001b[0m \u001b[1;34m'png2x'\u001b[0m \u001b[1;32min\u001b[0m \u001b[0mformats\u001b[0m\u001b[1;33m:\u001b[0m\u001b[1;33m\u001b[0m\u001b[1;33m\u001b[0m\u001b[0m\n\u001b[0;32m    250\u001b[0m         \u001b[0mpng_formatter\u001b[0m\u001b[1;33m.\u001b[0m\u001b[0mfor_type\u001b[0m\u001b[1;33m(\u001b[0m\u001b[0mFigure\u001b[0m\u001b[1;33m,\u001b[0m \u001b[1;32mlambda\u001b[0m \u001b[0mfig\u001b[0m\u001b[1;33m:\u001b[0m \u001b[0mretina_figure\u001b[0m\u001b[1;33m(\u001b[0m\u001b[0mfig\u001b[0m\u001b[1;33m,\u001b[0m \u001b[1;33m**\u001b[0m\u001b[0mkwargs\u001b[0m\u001b[1;33m)\u001b[0m\u001b[1;33m)\u001b[0m\u001b[1;33m\u001b[0m\u001b[1;33m\u001b[0m\u001b[0m\n",
      "\u001b[1;32mC:\\Program Files (x86)\\pit\\lib\\site-packages\\IPython\\core\\pylabtools.py\u001b[0m in \u001b[0;36mprint_figure\u001b[1;34m(fig, fmt, bbox_inches, **kwargs)\u001b[0m\n\u001b[0;32m    130\u001b[0m         \u001b[0mFigureCanvasBase\u001b[0m\u001b[1;33m(\u001b[0m\u001b[0mfig\u001b[0m\u001b[1;33m)\u001b[0m\u001b[1;33m\u001b[0m\u001b[1;33m\u001b[0m\u001b[0m\n\u001b[0;32m    131\u001b[0m \u001b[1;33m\u001b[0m\u001b[0m\n\u001b[1;32m--> 132\u001b[1;33m     \u001b[0mfig\u001b[0m\u001b[1;33m.\u001b[0m\u001b[0mcanvas\u001b[0m\u001b[1;33m.\u001b[0m\u001b[0mprint_figure\u001b[0m\u001b[1;33m(\u001b[0m\u001b[0mbytes_io\u001b[0m\u001b[1;33m,\u001b[0m \u001b[1;33m**\u001b[0m\u001b[0mkw\u001b[0m\u001b[1;33m)\u001b[0m\u001b[1;33m\u001b[0m\u001b[1;33m\u001b[0m\u001b[0m\n\u001b[0m\u001b[0;32m    133\u001b[0m     \u001b[0mdata\u001b[0m \u001b[1;33m=\u001b[0m \u001b[0mbytes_io\u001b[0m\u001b[1;33m.\u001b[0m\u001b[0mgetvalue\u001b[0m\u001b[1;33m(\u001b[0m\u001b[1;33m)\u001b[0m\u001b[1;33m\u001b[0m\u001b[1;33m\u001b[0m\u001b[0m\n\u001b[0;32m    134\u001b[0m     \u001b[1;32mif\u001b[0m \u001b[0mfmt\u001b[0m \u001b[1;33m==\u001b[0m \u001b[1;34m'svg'\u001b[0m\u001b[1;33m:\u001b[0m\u001b[1;33m\u001b[0m\u001b[1;33m\u001b[0m\u001b[0m\n",
      "\u001b[1;32mC:\\Program Files (x86)\\pit\\lib\\site-packages\\matplotlib\\backend_bases.py\u001b[0m in \u001b[0;36mprint_figure\u001b[1;34m(self, filename, dpi, facecolor, edgecolor, orientation, format, bbox_inches, pad_inches, bbox_extra_artists, backend, **kwargs)\u001b[0m\n\u001b[0;32m   2208\u001b[0m \u001b[1;33m\u001b[0m\u001b[0m\n\u001b[0;32m   2209\u001b[0m             \u001b[1;32mtry\u001b[0m\u001b[1;33m:\u001b[0m\u001b[1;33m\u001b[0m\u001b[1;33m\u001b[0m\u001b[0m\n\u001b[1;32m-> 2210\u001b[1;33m                 result = print_method(\n\u001b[0m\u001b[0;32m   2211\u001b[0m                     \u001b[0mfilename\u001b[0m\u001b[1;33m,\u001b[0m\u001b[1;33m\u001b[0m\u001b[1;33m\u001b[0m\u001b[0m\n\u001b[0;32m   2212\u001b[0m                     \u001b[0mdpi\u001b[0m\u001b[1;33m=\u001b[0m\u001b[0mdpi\u001b[0m\u001b[1;33m,\u001b[0m\u001b[1;33m\u001b[0m\u001b[1;33m\u001b[0m\u001b[0m\n",
      "\u001b[1;32mC:\\Program Files (x86)\\pit\\lib\\site-packages\\matplotlib\\backend_bases.py\u001b[0m in \u001b[0;36mwrapper\u001b[1;34m(*args, **kwargs)\u001b[0m\n\u001b[0;32m   1637\u001b[0m             \u001b[0mkwargs\u001b[0m\u001b[1;33m.\u001b[0m\u001b[0mpop\u001b[0m\u001b[1;33m(\u001b[0m\u001b[0marg\u001b[0m\u001b[1;33m)\u001b[0m\u001b[1;33m\u001b[0m\u001b[1;33m\u001b[0m\u001b[0m\n\u001b[0;32m   1638\u001b[0m \u001b[1;33m\u001b[0m\u001b[0m\n\u001b[1;32m-> 1639\u001b[1;33m         \u001b[1;32mreturn\u001b[0m \u001b[0mfunc\u001b[0m\u001b[1;33m(\u001b[0m\u001b[1;33m*\u001b[0m\u001b[0margs\u001b[0m\u001b[1;33m,\u001b[0m \u001b[1;33m**\u001b[0m\u001b[0mkwargs\u001b[0m\u001b[1;33m)\u001b[0m\u001b[1;33m\u001b[0m\u001b[1;33m\u001b[0m\u001b[0m\n\u001b[0m\u001b[0;32m   1640\u001b[0m \u001b[1;33m\u001b[0m\u001b[0m\n\u001b[0;32m   1641\u001b[0m     \u001b[1;32mreturn\u001b[0m \u001b[0mwrapper\u001b[0m\u001b[1;33m\u001b[0m\u001b[1;33m\u001b[0m\u001b[0m\n",
      "\u001b[1;32mC:\\Program Files (x86)\\pit\\lib\\site-packages\\matplotlib\\backends\\backend_agg.py\u001b[0m in \u001b[0;36mprint_png\u001b[1;34m(self, filename_or_obj, metadata, pil_kwargs, *args)\u001b[0m\n\u001b[0;32m    507\u001b[0m             \u001b[1;33m*\u001b[0m\u001b[0mmetadata\u001b[0m\u001b[1;33m*\u001b[0m\u001b[1;33m,\u001b[0m \u001b[0mincluding\u001b[0m \u001b[0mthe\u001b[0m \u001b[0mdefault\u001b[0m \u001b[1;34m'Software'\u001b[0m \u001b[0mkey\u001b[0m\u001b[1;33m.\u001b[0m\u001b[1;33m\u001b[0m\u001b[1;33m\u001b[0m\u001b[0m\n\u001b[0;32m    508\u001b[0m         \"\"\"\n\u001b[1;32m--> 509\u001b[1;33m         \u001b[0mFigureCanvasAgg\u001b[0m\u001b[1;33m.\u001b[0m\u001b[0mdraw\u001b[0m\u001b[1;33m(\u001b[0m\u001b[0mself\u001b[0m\u001b[1;33m)\u001b[0m\u001b[1;33m\u001b[0m\u001b[1;33m\u001b[0m\u001b[0m\n\u001b[0m\u001b[0;32m    510\u001b[0m         mpl.image.imsave(\n\u001b[0;32m    511\u001b[0m             \u001b[0mfilename_or_obj\u001b[0m\u001b[1;33m,\u001b[0m \u001b[0mself\u001b[0m\u001b[1;33m.\u001b[0m\u001b[0mbuffer_rgba\u001b[0m\u001b[1;33m(\u001b[0m\u001b[1;33m)\u001b[0m\u001b[1;33m,\u001b[0m \u001b[0mformat\u001b[0m\u001b[1;33m=\u001b[0m\u001b[1;34m\"png\"\u001b[0m\u001b[1;33m,\u001b[0m \u001b[0morigin\u001b[0m\u001b[1;33m=\u001b[0m\u001b[1;34m\"upper\"\u001b[0m\u001b[1;33m,\u001b[0m\u001b[1;33m\u001b[0m\u001b[1;33m\u001b[0m\u001b[0m\n",
      "\u001b[1;32mC:\\Program Files (x86)\\pit\\lib\\site-packages\\matplotlib\\backends\\backend_agg.py\u001b[0m in \u001b[0;36mdraw\u001b[1;34m(self)\u001b[0m\n\u001b[0;32m    400\u001b[0m     \u001b[1;32mdef\u001b[0m \u001b[0mdraw\u001b[0m\u001b[1;33m(\u001b[0m\u001b[0mself\u001b[0m\u001b[1;33m)\u001b[0m\u001b[1;33m:\u001b[0m\u001b[1;33m\u001b[0m\u001b[1;33m\u001b[0m\u001b[0m\n\u001b[0;32m    401\u001b[0m         \u001b[1;31m# docstring inherited\u001b[0m\u001b[1;33m\u001b[0m\u001b[1;33m\u001b[0m\u001b[1;33m\u001b[0m\u001b[0m\n\u001b[1;32m--> 402\u001b[1;33m         \u001b[0mself\u001b[0m\u001b[1;33m.\u001b[0m\u001b[0mrenderer\u001b[0m \u001b[1;33m=\u001b[0m \u001b[0mself\u001b[0m\u001b[1;33m.\u001b[0m\u001b[0mget_renderer\u001b[0m\u001b[1;33m(\u001b[0m\u001b[0mcleared\u001b[0m\u001b[1;33m=\u001b[0m\u001b[1;32mTrue\u001b[0m\u001b[1;33m)\u001b[0m\u001b[1;33m\u001b[0m\u001b[1;33m\u001b[0m\u001b[0m\n\u001b[0m\u001b[0;32m    403\u001b[0m         \u001b[1;31m# Acquire a lock on the shared font cache.\u001b[0m\u001b[1;33m\u001b[0m\u001b[1;33m\u001b[0m\u001b[1;33m\u001b[0m\u001b[0m\n\u001b[0;32m    404\u001b[0m         \u001b[1;32mwith\u001b[0m \u001b[0mRendererAgg\u001b[0m\u001b[1;33m.\u001b[0m\u001b[0mlock\u001b[0m\u001b[1;33m,\u001b[0m\u001b[0;31m \u001b[0m\u001b[0;31m\\\u001b[0m\u001b[1;33m\u001b[0m\u001b[1;33m\u001b[0m\u001b[0m\n",
      "\u001b[1;32mC:\\Program Files (x86)\\pit\\lib\\site-packages\\matplotlib\\backends\\backend_agg.py\u001b[0m in \u001b[0;36mget_renderer\u001b[1;34m(self, cleared)\u001b[0m\n\u001b[0;32m    416\u001b[0m                           and getattr(self, \"_lastKey\", None) == key)\n\u001b[0;32m    417\u001b[0m         \u001b[1;32mif\u001b[0m \u001b[1;32mnot\u001b[0m \u001b[0mreuse_renderer\u001b[0m\u001b[1;33m:\u001b[0m\u001b[1;33m\u001b[0m\u001b[1;33m\u001b[0m\u001b[0m\n\u001b[1;32m--> 418\u001b[1;33m             \u001b[0mself\u001b[0m\u001b[1;33m.\u001b[0m\u001b[0mrenderer\u001b[0m \u001b[1;33m=\u001b[0m \u001b[0mRendererAgg\u001b[0m\u001b[1;33m(\u001b[0m\u001b[0mw\u001b[0m\u001b[1;33m,\u001b[0m \u001b[0mh\u001b[0m\u001b[1;33m,\u001b[0m \u001b[0mself\u001b[0m\u001b[1;33m.\u001b[0m\u001b[0mfigure\u001b[0m\u001b[1;33m.\u001b[0m\u001b[0mdpi\u001b[0m\u001b[1;33m)\u001b[0m\u001b[1;33m\u001b[0m\u001b[1;33m\u001b[0m\u001b[0m\n\u001b[0m\u001b[0;32m    419\u001b[0m             \u001b[0mself\u001b[0m\u001b[1;33m.\u001b[0m\u001b[0m_lastKey\u001b[0m \u001b[1;33m=\u001b[0m \u001b[0mkey\u001b[0m\u001b[1;33m\u001b[0m\u001b[1;33m\u001b[0m\u001b[0m\n\u001b[0;32m    420\u001b[0m         \u001b[1;32melif\u001b[0m \u001b[0mcleared\u001b[0m\u001b[1;33m:\u001b[0m\u001b[1;33m\u001b[0m\u001b[1;33m\u001b[0m\u001b[0m\n",
      "\u001b[1;32mC:\\Program Files (x86)\\pit\\lib\\site-packages\\matplotlib\\backends\\backend_agg.py\u001b[0m in \u001b[0;36m__init__\u001b[1;34m(self, width, height, dpi)\u001b[0m\n\u001b[0;32m     94\u001b[0m         \u001b[0mself\u001b[0m\u001b[1;33m.\u001b[0m\u001b[0mwidth\u001b[0m \u001b[1;33m=\u001b[0m \u001b[0mwidth\u001b[0m\u001b[1;33m\u001b[0m\u001b[1;33m\u001b[0m\u001b[0m\n\u001b[0;32m     95\u001b[0m         \u001b[0mself\u001b[0m\u001b[1;33m.\u001b[0m\u001b[0mheight\u001b[0m \u001b[1;33m=\u001b[0m \u001b[0mheight\u001b[0m\u001b[1;33m\u001b[0m\u001b[1;33m\u001b[0m\u001b[0m\n\u001b[1;32m---> 96\u001b[1;33m         \u001b[0mself\u001b[0m\u001b[1;33m.\u001b[0m\u001b[0m_renderer\u001b[0m \u001b[1;33m=\u001b[0m \u001b[0m_RendererAgg\u001b[0m\u001b[1;33m(\u001b[0m\u001b[0mint\u001b[0m\u001b[1;33m(\u001b[0m\u001b[0mwidth\u001b[0m\u001b[1;33m)\u001b[0m\u001b[1;33m,\u001b[0m \u001b[0mint\u001b[0m\u001b[1;33m(\u001b[0m\u001b[0mheight\u001b[0m\u001b[1;33m)\u001b[0m\u001b[1;33m,\u001b[0m \u001b[0mdpi\u001b[0m\u001b[1;33m)\u001b[0m\u001b[1;33m\u001b[0m\u001b[1;33m\u001b[0m\u001b[0m\n\u001b[0m\u001b[0;32m     97\u001b[0m         \u001b[0mself\u001b[0m\u001b[1;33m.\u001b[0m\u001b[0m_filter_renderers\u001b[0m \u001b[1;33m=\u001b[0m \u001b[1;33m[\u001b[0m\u001b[1;33m]\u001b[0m\u001b[1;33m\u001b[0m\u001b[1;33m\u001b[0m\u001b[0m\n\u001b[0;32m     98\u001b[0m \u001b[1;33m\u001b[0m\u001b[0m\n",
      "\u001b[1;31mValueError\u001b[0m: Image size of 402x513429 pixels is too large. It must be less than 2^16 in each direction."
     ]
    },
    {
     "data": {
      "text/plain": [
       "<Figure size 432x288 with 1 Axes>"
      ]
     },
     "metadata": {
      "needs_background": "light"
     },
     "output_type": "display_data"
    }
   ],
   "source": [
    "sns.countplot(x='y', hue = 'group_1', data=df_gd)"
   ]
  },
  {
   "cell_type": "code",
   "execution_count": 74,
   "metadata": {},
   "outputs": [
    {
     "data": {
      "text/plain": [
       "<AxesSubplot:xlabel='y', ylabel='count'>"
      ]
     },
     "execution_count": 74,
     "metadata": {},
     "output_type": "execute_result"
    },
    {
     "data": {
      "image/png": "[encoded data removed]",
      "text/plain": [
       "<Figure size 432x288 with 1 Axes>"
      ]
     },
     "metadata": {
      "needs_background": "light"
     },
     "output_type": "display_data"
    }
   ],
   "source": [
    "sns.countplot(x='y', hue = 'group_1', data=group_17304)"
   ]
  },
  {
   "cell_type": "markdown",
   "metadata": {},
   "source": [
    "### Распределение результатов\n",
    "Двух моделей"
   ]
  },
  {
   "cell_type": "code",
   "execution_count": 3,
   "metadata": {},
   "outputs": [],
   "source": [
    "# Одна модель\n",
    "one_model = pd.read_csv('one_model.csv')\n",
    "\n",
    "# Две модели type1 и type_all\n",
    "two_models = pd.read_csv('two_models.csv')\n"
   ]
  },
  {
   "cell_type": "code",
   "execution_count": 4,
   "metadata": {},
   "outputs": [],
   "source": [
    "n = two_models.shape[0]"
   ]
  },
  {
   "cell_type": "code",
   "execution_count": 5,
   "metadata": {},
   "outputs": [
    {
     "data": {
      "text/plain": [
       "True     51.366087\n",
       "False    48.633913\n",
       "Name: result, dtype: float64"
      ]
     },
     "execution_count": 5,
     "metadata": {},
     "output_type": "execute_result"
    }
   ],
   "source": [
    "res = one_model['result'] == two_models['result'] \n",
    "res.value_counts()*100/n"
   ]
  },
  {
   "cell_type": "code",
   "execution_count": 10,
   "metadata": {},
   "outputs": [
    {
     "data": {
      "text/plain": [
       "1    58.103179\n",
       "0    41.896821\n",
       "Name: result, dtype: float64"
      ]
     },
     "execution_count": 10,
     "metadata": {},
     "output_type": "execute_result"
    }
   ],
   "source": [
    "two_models.result.value_counts()*100/n"
   ]
  },
  {
   "cell_type": "code",
   "execution_count": 9,
   "metadata": {},
   "outputs": [
    {
     "data": {
      "text/plain": [
       "1    57.742432\n",
       "0    42.257568\n",
       "Name: result, dtype: float64"
      ]
     },
     "execution_count": 9,
     "metadata": {},
     "output_type": "execute_result"
    }
   ],
   "source": [
    "one_model.result.value_counts()*100/n"
   ]
  },
  {
   "cell_type": "code",
   "execution_count": 11,
   "metadata": {},
   "outputs": [
    {
     "data": {
      "text/plain": [
       "count    498687.000000\n",
       "mean          0.581032\n",
       "std           0.493391\n",
       "min           0.000000\n",
       "25%           0.000000\n",
       "50%           1.000000\n",
       "75%           1.000000\n",
       "max           1.000000\n",
       "Name: result, dtype: float64"
      ]
     },
     "execution_count": 11,
     "metadata": {},
     "output_type": "execute_result"
    }
   ],
   "source": [
    "two_models.result.describe()"
   ]
  },
  {
   "cell_type": "code",
   "execution_count": 12,
   "metadata": {},
   "outputs": [
    {
     "data": {
      "text/plain": [
       "count    498687.000000\n",
       "mean          0.577424\n",
       "std           0.493970\n",
       "min           0.000000\n",
       "25%           0.000000\n",
       "50%           1.000000\n",
       "75%           1.000000\n",
       "max           1.000000\n",
       "Name: result, dtype: float64"
      ]
     },
     "execution_count": 12,
     "metadata": {},
     "output_type": "execute_result"
    }
   ],
   "source": [
    "one_model.result.describe()"
   ]
  },
  {
   "cell_type": "code",
   "execution_count": null,
   "metadata": {},
   "outputs": [],
   "source": []
  }
 ],
 "metadata": {
  "kernelspec": {
   "display_name": "Python 3",
   "language": "python",
   "name": "python3"
  },
  "language_info": {
   "codemirror_mode": {
    "name": "ipython",
    "version": 3
   },
   "file_extension": ".py",
   "mimetype": "text/x-python",
   "name": "python",
   "nbconvert_exporter": "python",
   "pygments_lexer": "ipython3",
   "version": "3.8.5"
  }
 },
 "nbformat": 4,
 "nbformat_minor": 4
}
